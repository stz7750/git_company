{
 "cells": [
  {
   "cell_type": "code",
   "execution_count": 2,
   "id": "ef69fe08",
   "metadata": {},
   "outputs": [
    {
     "name": "stdout",
     "output_type": "stream",
     "text": [
      "20\n"
     ]
    }
   ],
   "source": [
    "a=10\n",
    "b=10\n",
    "print(a+b)"
   ]
  },
  {
   "cell_type": "code",
   "execution_count": 7,
   "id": "6f86b0f9",
   "metadata": {},
   "outputs": [
    {
     "name": "stdout",
     "output_type": "stream",
     "text": [
      "76.3\n",
      "76.3\n"
     ]
    }
   ],
   "source": [
    "a = '76.3'\n",
    "b = float(a)\n",
    "print(a)\n",
    "print(b)\n",
    "#print(a+b) error 숫자와 문자열은 더하기 불가능."
   ]
  },
  {
   "cell_type": "code",
   "execution_count": 23,
   "id": "ce23fe20",
   "metadata": {},
   "outputs": [
    {
     "name": "stdout",
     "output_type": "stream",
     "text": [
      "152.6\n"
     ]
    }
   ],
   "source": [
    "a = float(a)\n",
    "b = a\n",
    "print(a+b)\n"
   ]
  },
  {
   "cell_type": "markdown",
   "id": "0812dd9a",
   "metadata": {},
   "source": [
    "### 자료형 변환\n",
    "    int() : 문자열/ 실수 를 int 데이터타입으로 반환\n",
    "    float() : 문자열 / 정수를 float 데이터타입으로 반환\n",
    "    str() : 다른 데이터 타입을 str 데이터타입으로 반환\n",
    "    bool() : 다른 데이터 타입을 bool 데이터타입으로 반환\n"
   ]
  },
  {
   "cell_type": "code",
   "execution_count": 27,
   "id": "7c10e7ad",
   "metadata": {},
   "outputs": [],
   "source": [
    "a = 100\n",
    "b = 879.01\n",
    "c = 'python'\n",
    "d = True"
   ]
  },
  {
   "cell_type": "code",
   "execution_count": 30,
   "id": "b9828a7b",
   "metadata": {},
   "outputs": [
    {
     "name": "stdout",
     "output_type": "stream",
     "text": [
      "100.0\n",
      "879\n",
      "100 <class 'str'>\n",
      "True True\n"
     ]
    }
   ],
   "source": [
    "print(float(a))\n",
    "print(int(b))\n",
    "print(str(a),type(str(a)))\n",
    "print(bool(a), bool(-100))"
   ]
  },
  {
   "cell_type": "code",
   "execution_count": 32,
   "id": "8f102bcd",
   "metadata": {},
   "outputs": [
    {
     "name": "stdout",
     "output_type": "stream",
     "text": [
      "False\n",
      "False\n",
      "False\n"
     ]
    }
   ],
   "source": [
    "print(bool(0))\n",
    "print(bool(''))\n",
    "print(bool(0.0))"
   ]
  },
  {
   "cell_type": "code",
   "execution_count": 38,
   "id": "22597141",
   "metadata": {},
   "outputs": [
    {
     "name": "stdout",
     "output_type": "stream",
     "text": [
      "True\n",
      "True\n"
     ]
    }
   ],
   "source": [
    "# 자동 형 변환\n",
    "print(1 == True)\n",
    "print(0 == False)"
   ]
  },
  {
   "cell_type": "code",
   "execution_count": null,
   "id": "b8945852",
   "metadata": {},
   "outputs": [],
   "source": []
  }
 ],
 "metadata": {
  "kernelspec": {
   "display_name": "Python 3 (ipykernel)",
   "language": "python",
   "name": "python3"
  },
  "language_info": {
   "codemirror_mode": {
    "name": "ipython",
    "version": 3
   },
   "file_extension": ".py",
   "mimetype": "text/x-python",
   "name": "python",
   "nbconvert_exporter": "python",
   "pygments_lexer": "ipython3",
   "version": "3.9.13"
  }
 },
 "nbformat": 4,
 "nbformat_minor": 5
}
