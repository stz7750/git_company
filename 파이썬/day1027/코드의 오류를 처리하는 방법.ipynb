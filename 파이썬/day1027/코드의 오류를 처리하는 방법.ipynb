{
 "cells": [
  {
   "cell_type": "markdown",
   "id": "4e0250e5",
   "metadata": {},
   "source": [
    "## 코드의 오류를 처리하는 방법"
   ]
  },
  {
   "cell_type": "markdown",
   "id": "475a3356",
   "metadata": {},
   "source": [
    "**버그와 디버그\n",
    "\n",
    "버그(bug) :  프로그래밍에서의 오류\n",
    "\n",
    "디버그(debug) : 오류를 수정하는 과정\n",
    "\n",
    "디버깅(debuging) : 코드에서 오류를 만났을 때, 프로그램의 잘못을 찾아내고 고치는 것 "
   ]
  },
  {
   "cell_type": "markdown",
   "id": "ca2d9629",
   "metadata": {},
   "source": [
    "오류의 종류와 해결 방법: 문법적 오류\n",
    "\n",
    "문법적 오류는 코딩했을 때, 인터프리터가 해석을 못 해 코드 자체를 실행시키지 못하는 오류이다.\n",
    "문법적 오류는 비교적 쉬운 유형의 오류이며, 대표적으로 들여쓰기 오탈자로 인한 오류가 있다."
   ]
  },
  {
   "cell_type": "markdown",
   "id": "117b612b",
   "metadata": {},
   "source": [
    "프로그램을 작성하다 보면 코드를 제대로 작성했다고 생각했음에도, 원하는 결과가 나오지 않는 경우가 종종 있다.\n",
    "논리적 오류를 해결하는 방법은 다양한데, 당장 쉽게 사용할 수 있는 방법은 확인이 필요한변수들에 print() 함수를 사용하여 값을 확인하는 것이다."
   ]
  },
  {
   "cell_type": "code",
   "execution_count": null,
   "id": "27ba2aeb",
   "metadata": {},
   "outputs": [],
   "source": [
    "\n",
    "\n"
   ]
  }
 ],
 "metadata": {
  "kernelspec": {
   "display_name": "Python 3 (ipykernel)",
   "language": "python",
   "name": "python3"
  },
  "language_info": {
   "codemirror_mode": {
    "name": "ipython",
    "version": 3
   },
   "file_extension": ".py",
   "mimetype": "text/x-python",
   "name": "python",
   "nbconvert_exporter": "python",
   "pygments_lexer": "ipython3",
   "version": "3.9.13"
  }
 },
 "nbformat": 4,
 "nbformat_minor": 5
}
