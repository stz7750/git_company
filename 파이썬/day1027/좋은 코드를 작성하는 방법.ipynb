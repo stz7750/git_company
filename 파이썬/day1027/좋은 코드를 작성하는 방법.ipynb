{
 "cells": [
  {
   "cell_type": "markdown",
   "id": "736bad62",
   "metadata": {},
   "source": [
    "**코딩 규칙**\n",
    "\n",
    "들여쓰기는 4 스페이스\n",
    "한 줄은 최대 79자까지\n",
    "불필요한 공백은 피함\n"
   ]
  },
  {
   "cell_type": "markdown",
   "id": "d61727ac",
   "metadata": {},
   "source": [
    "**PEP 8의 코딩규칙**\n",
    "\n",
    "=연산자는 1칸 이상 띄우지 않는다\n",
    "\n",
    "주석은 항상 갱신하고, 불필요한 주석은 삭제한다.\n",
    "\n",
    "소문자 I 대문자 O 대문자ㅣ은 사용을 금한다.\n",
    "\n",
    "함수명은 소문자로 구성하고, 필요하면 밑줄로 나눈다.\n",
    "\n"
   ]
  },
  {
   "cell_type": "markdown",
   "id": "bb8cde3c",
   "metadata": {},
   "source": [
    "## 함수 개발 가이드라인  :  함수 이름\n",
    "함수는 가능하면 짧게 작성할 것\n",
    "함수 이름에 함수의 역할과 의도를 명확히 드러낼 것\n",
    "\n",
    "\n",
    "EX) 좋은 함수 이름의 예\n",
    "def print_hello_world():\n",
    "    print(\"hello,world)\n",
    "    \n",
    "def get_hello_world():\n",
    "    return \"hello,world\"\n",
    " "
   ]
  },
  {
   "cell_type": "markdown",
   "id": "d64aa27f",
   "metadata": {},
   "source": [
    "함수 개발 가이드라인 : 함수의 역할\n",
    "\n",
    "하나의 함수에는 유사한 역할을 하는 코드만 포함해야 한다. 함수는 한 가지 역할을 명확히 해야 한다.\n",
    "다음 코드처럼 두 변수를 더하는 함수라면 굳이 그 결과를 화면에 출력할 필요는 없다. 이름에 맞는 최소한의 역할을 할 수 있도록 작성해야 한다."
   ]
  },
  {
   "cell_type": "markdown",
   "id": "4b8482a1",
   "metadata": {},
   "source": [
    "함수 개발 가이드라인 : 함수를 만드는 경우\n",
    "\n",
    "공통으로 사용되는 코드를 함수로 변환\n",
    "\n",
    "복잡한 로직이 사용되었을 때, 식별 가능한 이름의 함수로 변환\n",
    "\n"
   ]
  }
 ],
 "metadata": {
  "kernelspec": {
   "display_name": "Python 3 (ipykernel)",
   "language": "python",
   "name": "python3"
  },
  "language_info": {
   "codemirror_mode": {
    "name": "ipython",
    "version": 3
   },
   "file_extension": ".py",
   "mimetype": "text/x-python",
   "name": "python",
   "nbconvert_exporter": "python",
   "pygments_lexer": "ipython3",
   "version": "3.9.13"
  }
 },
 "nbformat": 4,
 "nbformat_minor": 5
}
