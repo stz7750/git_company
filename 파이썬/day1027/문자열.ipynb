{
 "cells": [
  {
   "cell_type": "markdown",
   "id": "a0ed8ec4",
   "metadata": {},
   "source": [
    "## 문자열의 개념\n",
    "\n",
    "- 문자열은 시퀸스 자료형(sequence data type) 이다.\n",
    "\n",
    "\n"
   ]
  },
  {
   "cell_type": "markdown",
   "id": "ffc5db7b",
   "metadata": {},
   "source": [
    "## 문자열과 메모리 공간\n",
    "\n",
    "- 일반적으로 문자열을 저장하기 위해서는 영문자 한 글자당 1바이트의 메모리 공간을 사용한다.\n",
    "\n",
    "- 다음과 같은 코드로 문자열이 저장된 공간의 크기를 확인할 수 있다.\n",
    "\n",
    "- 컴퓨터한테 a라고 알려줘도 컴퓨터는 a를 정확히 a라는 텍스트로 인식하고 있는게 아닌 2진수로 인식하고 있다.\n"
   ]
  },
  {
   "cell_type": "code",
   "execution_count": 2,
   "id": "f8da33b5",
   "metadata": {},
   "outputs": [
    {
     "name": "stdout",
     "output_type": "stream",
     "text": [
      "50 51 52\n"
     ]
    }
   ],
   "source": [
    "import sys\n",
    "\n",
    "print(sys.getsizeof('a'), sys.getsizeof('ab'), sys.getsizeof('cde'))"
   ]
  },
  {
   "cell_type": "markdown",
   "id": "8ad41ec5",
   "metadata": {},
   "source": [
    "## 문자열과 메모리 공간\n",
    "\n",
    "- 컴퓨터 공학자들으 이러한 문자를 처리하기 위해 이진수로 변환되는 표준 규칙을 만들었다.\n",
    "- ASCII, CP949, MS949, UTF-8 , 등 이러한 규칙을 인코딩(encoding)이라고 한다.\n",
    "\n",
    "1.컴퓨터는 문자를 직접 인식하지 못한다.\n",
    "컴퓨터는 문자를 숫자로 변환하여 인식한다.\n",
    "\n",
    "2.사람들은 문자를 숫자로 변환하기 위한 규칙을 만들었다.\n",
    "\n",
    "3.일반적으로 이 규칙은 1개의 영문자를 1바이트, 즉 2의 8승 정도의 공간에 저장될 수 있도록 정하였다."
   ]
  },
  {
   "cell_type": "markdown",
   "id": "6696be37",
   "metadata": {},
   "source": [
    "## 문자열의 인덱싱\n",
    "\n",
    "리스트처럼 글자 하나하나가 상대적 주소를 가지는데, 이 주소를 사용해 할당된 값을 가져오는 인덱싱을 사용할 수 있다.\n",
    "\n",
    "# Hello\n",
    "    0-1-2-3-4\n",
    "    -4--3--2--1\n",
    " "
   ]
  },
  {
   "cell_type": "markdown",
   "id": "13338b49",
   "metadata": {},
   "source": [
    "## 문자열의 슬라이싱\n",
    "\n",
    "슬라이싱(slicing) :  문자열의 주소값을 기반으로 문자열의 부분값을 반환하는 기법이다.\n",
    "\n",
    "리스트의 슬라이싱과 같다.pass"
   ]
  },
  {
   "cell_type": "markdown",
   "id": "014c9b24",
   "metadata": {},
   "source": [
    "## 문자열의 연산\n",
    "\n",
    "가장 기본적인 연산은 리스트의 연산과 같다. 예를 들어 문자열 변수 'a'와 정수형인 2의 'a+2'와 같은 연산은 동작하지 않는다. \n",
    "\n",
    "print(\"abc\"*5) = abcabcabcabcabc\n",
    "\n",
    "upper() 함수 : 문자열을 대문자로 변환하는 함수\n",
    "\n",
    "lower() 함수 : 소문자로 변환하는 함수\n",
    "\n",
    "title() 함수 : 영어신문의 헤드라인처럼 각 단어의 앞글자만 대문자로 바꾸는 함수\n",
    "\n",
    "captitalize() 함수 : 첫 번째 글자만 대문자로 바꾸는 함수\n",
    "\n",
    "count() 함수 : 해당 문자열에서 특정 문자가 포함된 개수를 변환\n",
    "\n",
    "isdigit() 함수 : 해당 문자열이 숫자인지를 True 또는 flase 값을 반환\n",
    "\n",
    "startswith()함수 : 해당 문자열로 시작되는지를 True 또는 flase로 값을 반환\n",
    "\n"
   ]
  },
  {
   "cell_type": "code",
   "execution_count": 3,
   "id": "963a3b65",
   "metadata": {},
   "outputs": [
    {
     "name": "stdout",
     "output_type": "stream",
     "text": [
      "4\n"
     ]
    }
   ],
   "source": [
    "b = 'abcabcabc'\n",
    "res = b.find('b',4)\n",
    "print(res)"
   ]
  },
  {
   "cell_type": "code",
   "execution_count": 4,
   "id": "dcc00a9d",
   "metadata": {},
   "outputs": [
    {
     "ename": "AttributeError",
     "evalue": "'int' object has no attribute 'a'",
     "output_type": "error",
     "traceback": [
      "\u001b[0;31m---------------------------------------------------------------------------\u001b[0m",
      "\u001b[0;31mAttributeError\u001b[0m                            Traceback (most recent call last)",
      "\u001b[0;32m/var/folders/gj/rk99c81n5jn0qjwq7ylttb3m0000gn/T/ipykernel_58380/4007980973.py\u001b[0m in \u001b[0;36m<module>\u001b[0;34m\u001b[0m\n\u001b[0;32m----> 1\u001b[0;31m \u001b[0mres\u001b[0m\u001b[0;34m.\u001b[0m\u001b[0ma\u001b[0m\u001b[0;34m.\u001b[0m\u001b[0mreplace\u001b[0m\u001b[0;34m(\u001b[0m\u001b[0;34m\"py\"\u001b[0m\u001b[0;34m,\u001b[0m\u001b[0;34m\"sy\"\u001b[0m\u001b[0;34m)\u001b[0m\u001b[0;34m\u001b[0m\u001b[0;34m\u001b[0m\u001b[0m\n\u001b[0m\u001b[1;32m      2\u001b[0m \u001b[0mprint\u001b[0m\u001b[0;34m(\u001b[0m\u001b[0ma\u001b[0m \u001b[0;34m,\u001b[0m \u001b[0mres\u001b[0m\u001b[0;34m)\u001b[0m\u001b[0;34m\u001b[0m\u001b[0;34m\u001b[0m\u001b[0m\n",
      "\u001b[0;31mAttributeError\u001b[0m: 'int' object has no attribute 'a'"
     ]
    }
   ],
   "source": [
    "res.a.replace(\"py\",\"sy\")\n",
    "print(a , res)"
   ]
  },
  {
   "cell_type": "code",
   "execution_count": 5,
   "id": "926b9b71",
   "metadata": {},
   "outputs": [
    {
     "name": "stdout",
     "output_type": "stream",
     "text": [
      "data1data2data3\n"
     ]
    }
   ],
   "source": [
    "# 공백을 제거하는 방법!\n",
    "a = \"data1 data2 data3\"\n",
    "res = a.replace(' ', '')\n",
    "print(res)"
   ]
  },
  {
   "cell_type": "code",
   "execution_count": 6,
   "id": "45f265c3",
   "metadata": {},
   "outputs": [
    {
     "name": "stdout",
     "output_type": "stream",
     "text": [
      "['python', 'java', 'javascript']\n",
      "['python', ' java', ' javascript']\n",
      "['python', 'jaba', 'javascript']\n"
     ]
    }
   ],
   "source": [
    "ss = \"python java javascript\"\n",
    "print(ss.split())\n",
    "ss = \"python: java: javascript\"\n",
    "print(ss.split(\":\"))\n",
    "ss = \"python\\njaba\\njavascript\"\n",
    "print(ss.splitlines())"
   ]
  },
  {
   "cell_type": "code",
   "execution_count": 9,
   "id": "8dc64bca",
   "metadata": {},
   "outputs": [
    {
     "name": "stdout",
     "output_type": "stream",
     "text": [
      "날짜 (연/월/일) 입력 ==>2022/10/27\n",
      "10년 후 ==>2032 년10 월27일\n"
     ]
    }
   ],
   "source": [
    "# 연/월/일 형식으로 문자열을 입력받아 10년 후 날짜를 출력하는 코드\n",
    "\n",
    "ss = input(\"날짜 (연/월/일) 입력 ==>\")\n",
    "ssList = ss.split(\"/\")\n",
    "print(\"10년 후 ==>\" , end = \"\")\n",
    "print(int(ssList[0])+10,\"년\" , end = \"\")\n",
    "print(ssList[1] , \"월\", end = \"\")\n",
    "print(ssList[2] , \"일\" , sep= \"\")\n"
   ]
  }
 ],
 "metadata": {
  "kernelspec": {
   "display_name": "Python 3 (ipykernel)",
   "language": "python",
   "name": "python3"
  },
  "language_info": {
   "codemirror_mode": {
    "name": "ipython",
    "version": 3
   },
   "file_extension": ".py",
   "mimetype": "text/x-python",
   "name": "python",
   "nbconvert_exporter": "python",
   "pygments_lexer": "ipython3",
   "version": "3.9.13"
  }
 },
 "nbformat": 4,
 "nbformat_minor": 5
}
