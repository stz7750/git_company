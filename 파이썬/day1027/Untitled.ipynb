{
 "cells": [
  {
   "cell_type": "markdown",
   "id": "c1cab2e5",
   "metadata": {},
   "source": [
    "## 문자열 서식 지정"
   ]
  },
  {
   "cell_type": "markdown",
   "id": "ffc1b6eb",
   "metadata": {},
   "source": [
    "**서식 지정의 개념 **\n",
    "\n",
    "print() 함수를 사용하다 보면 어떤 형식에 맞추어 결과를 출력해야 할 일이 발생하기도 한다. 특히 엑셀을 사용할 때 통화 단위, 세 자리 숫자 단위 띄어쓰기, % 출력 등 다양한 형식에 맞추어 출력할 일이 생기는데, 이를 서식 지정(formating)이라고 한다."
   ]
  },
  {
   "cell_type": "code",
   "execution_count": 2,
   "id": "151ccf72",
   "metadata": {},
   "outputs": [
    {
     "name": "stdout",
     "output_type": "stream",
     "text": [
      "1 2 3\n",
      "abc\n",
      "1 2 3\n",
      "abc\n"
     ]
    }
   ],
   "source": [
    "print(1,2,3)\n",
    "print(\"a\"+\"\"+\"b\"+\"\"+\"c\")\n",
    "print(\"%d %d %d\" %(1,2,3))\n",
    "print(\"{}{}{}\".format(\"a\",\"b\",\"c\"))"
   ]
  },
  {
   "cell_type": "markdown",
   "id": "0e97cc96",
   "metadata": {},
   "source": [
    "**패딩**\n",
    "\n",
    "파이썬의 서식 지정 기능에는 여유 공간을 지정하여 글자 배열을 맞추고 소수점 자릿수를 맞추는 패딩(padding)기능이 있다. % 서식과 format() 함수 모두 패딩 기능을 제공한다."
   ]
  },
  {
   "cell_type": "code",
   "execution_count": 4,
   "id": "4f487c91",
   "metadata": {},
   "outputs": [
    {
     "name": "stdout",
     "output_type": "stream",
     "text": [
      "        12\n",
      "12        \n"
     ]
    }
   ],
   "source": [
    "print(\"%10d\" %12)\n",
    "print(\"%-10d\" %12)"
   ]
  },
  {
   "cell_type": "code",
   "execution_count": 8,
   "id": "b8b764ac",
   "metadata": {},
   "outputs": [
    {
     "name": "stdout",
     "output_type": "stream",
     "text": [
      "     5.943\n",
      "      5.94\n",
      "5.94      \n"
     ]
    }
   ],
   "source": [
    "print(\"%10.3f\"%5.94343) #10자리를 확보하고 소수점 셋째 자리까지 출력\n",
    "print(\"%10.2f\" %5.94343) #10자리를 확보하고 소수점 둘째 자리까지 출력\n",
    "print(\"%-10.2f\" %5.94343)"
   ]
  },
  {
   "cell_type": "code",
   "execution_count": 10,
   "id": "1ccc9262",
   "metadata": {},
   "outputs": [
    {
     "name": "stdout",
     "output_type": "stream",
     "text": [
      "     Apple\n",
      "Apple     \n"
     ]
    }
   ],
   "source": [
    "print(\"{0:>10s}\".format(\"Apple\")) # 10자리의 공간을 확보하고, 우측 정렬로 문자열 'apple'을 출력하라는 명령어\n",
    "print(\"{0:<10s}\".format(\"Apple\")) # 좌측 정렬하기 위해서는 < 부호를 사용하면 된다."
   ]
  },
  {
   "cell_type": "code",
   "execution_count": 28,
   "id": "99949a29",
   "metadata": {},
   "outputs": [
    {
     "ename": "SyntaxError",
     "evalue": "invalid syntax (3770447781.py, line 22)",
     "output_type": "error",
     "traceback": [
      "\u001b[0;36m  File \u001b[0;32m\"/var/folders/gj/rk99c81n5jn0qjwq7ylttb3m0000gn/T/ipykernel_58911/3770447781.py\"\u001b[0;36m, line \u001b[0;32m22\u001b[0m\n\u001b[0;31m    for(slist.sizeof == 6):\u001b[0m\n\u001b[0m                          ^\u001b[0m\n\u001b[0;31mSyntaxError\u001b[0m\u001b[0;31m:\u001b[0m invalid syntax\n"
     ]
    }
   ],
   "source": [
    "import random\n",
    "\n",
    "def getNumber():\n",
    "    return random.randrange(1,46,6)\n",
    "## 선언된 함수를 이용해 로또 추첨기를 만들어보세요.\n",
    "# 6개의 숫자는 중복되지 않아야 합니다.\n",
    "# 다 뽑았으면 정렬해서 출력해주세요.\n",
    "\n",
    "rlist = []\n",
    "\n",
    "while True:\n",
    "    num = getNumber()\n",
    "    \n",
    "    if rlist.count(num) == 0:\n",
    "        rlist.append(num)\n",
    "    if len(rlist) >= 6:\n",
    "        break\n",
    "print(rlist)\n",
    "\n",
    "# 리스트 생성 - >  6개 숫자 담고 - > 중복확인 - > 없으면 출력"
   ]
  }
 ],
 "metadata": {
  "kernelspec": {
   "display_name": "Python 3 (ipykernel)",
   "language": "python",
   "name": "python3"
  },
  "language_info": {
   "codemirror_mode": {
    "name": "ipython",
    "version": 3
   },
   "file_extension": ".py",
   "mimetype": "text/x-python",
   "name": "python",
   "nbconvert_exporter": "python",
   "pygments_lexer": "ipython3",
   "version": "3.9.13"
  }
 },
 "nbformat": 4,
 "nbformat_minor": 5
}
