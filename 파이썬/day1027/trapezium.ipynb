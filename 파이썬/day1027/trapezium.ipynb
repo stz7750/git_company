{
 "cells": [
  {
   "cell_type": "code",
   "execution_count": 13,
   "id": "207c6f2d",
   "metadata": {},
   "outputs": [
    {
     "name": "stdout",
     "output_type": "stream",
     "text": [
      "밑변의 길이 : 4\n",
      "윗변의 길이 : 5\n",
      "높이 : 10\n"
     ]
    },
    {
     "ename": "NameError",
     "evalue": "name 'mutiplication' is not defined",
     "output_type": "error",
     "traceback": [
      "\u001b[0;31m---------------------------------------------------------------------------\u001b[0m",
      "\u001b[0;31mNameError\u001b[0m                                 Traceback (most recent call last)",
      "\u001b[0;32m/var/folders/gj/rk99c81n5jn0qjwq7ylttb3m0000gn/T/ipykernel_58207/2282895240.py\u001b[0m in \u001b[0;36m<module>\u001b[0;34m\u001b[0m\n\u001b[1;32m     15\u001b[0m     \u001b[0mprint\u001b[0m\u001b[0;34m(\u001b[0m\u001b[0;34m\"넓이 : \"\u001b[0m\u001b[0;34m,\u001b[0m\u001b[0mmutiplication\u001b[0m\u001b[0;34m(\u001b[0m\u001b[0mdivied_by_2\u001b[0m\u001b[0;34m(\u001b[0m \u001b[0maddtion\u001b[0m\u001b[0;34m(\u001b[0m\u001b[0mbase_line\u001b[0m\u001b[0;34m+\u001b[0m\u001b[0mupper_edge\u001b[0m\u001b[0;34m)\u001b[0m\u001b[0;34m)\u001b[0m\u001b[0;34m,\u001b[0m\u001b[0mheight\u001b[0m\u001b[0;34m)\u001b[0m\u001b[0;34m)\u001b[0m\u001b[0;34m\u001b[0m\u001b[0;34m\u001b[0m\u001b[0m\n\u001b[1;32m     16\u001b[0m \u001b[0;32mif\u001b[0m \u001b[0m__name__\u001b[0m\u001b[0;34m==\u001b[0m\u001b[0;34m'__main__'\u001b[0m\u001b[0;34m:\u001b[0m\u001b[0;34m\u001b[0m\u001b[0;34m\u001b[0m\u001b[0m\n\u001b[0;32m---> 17\u001b[0;31m     \u001b[0mmain\u001b[0m\u001b[0;34m(\u001b[0m\u001b[0;34m)\u001b[0m\u001b[0;34m\u001b[0m\u001b[0;34m\u001b[0m\u001b[0m\n\u001b[0m\u001b[1;32m     18\u001b[0m \u001b[0;34m\u001b[0m\u001b[0m\n",
      "\u001b[0;32m/var/folders/gj/rk99c81n5jn0qjwq7ylttb3m0000gn/T/ipykernel_58207/2282895240.py\u001b[0m in \u001b[0;36mmain\u001b[0;34m()\u001b[0m\n\u001b[1;32m     13\u001b[0m     \u001b[0mheight\u001b[0m \u001b[0;34m=\u001b[0m \u001b[0mfloat\u001b[0m\u001b[0;34m(\u001b[0m\u001b[0minput\u001b[0m\u001b[0;34m(\u001b[0m\u001b[0;34m\"높이 : \"\u001b[0m\u001b[0;34m)\u001b[0m\u001b[0;34m)\u001b[0m\u001b[0;34m\u001b[0m\u001b[0;34m\u001b[0m\u001b[0m\n\u001b[1;32m     14\u001b[0m \u001b[0;34m\u001b[0m\u001b[0m\n\u001b[0;32m---> 15\u001b[0;31m     \u001b[0mprint\u001b[0m\u001b[0;34m(\u001b[0m\u001b[0;34m\"넓이 : \"\u001b[0m\u001b[0;34m,\u001b[0m\u001b[0mmutiplication\u001b[0m\u001b[0;34m(\u001b[0m\u001b[0mdivied_by_2\u001b[0m\u001b[0;34m(\u001b[0m \u001b[0maddtion\u001b[0m\u001b[0;34m(\u001b[0m\u001b[0mbase_line\u001b[0m\u001b[0;34m+\u001b[0m\u001b[0mupper_edge\u001b[0m\u001b[0;34m)\u001b[0m\u001b[0;34m)\u001b[0m\u001b[0;34m,\u001b[0m\u001b[0mheight\u001b[0m\u001b[0;34m)\u001b[0m\u001b[0;34m)\u001b[0m\u001b[0;34m\u001b[0m\u001b[0;34m\u001b[0m\u001b[0m\n\u001b[0m\u001b[1;32m     16\u001b[0m \u001b[0;32mif\u001b[0m \u001b[0m__name__\u001b[0m\u001b[0;34m==\u001b[0m\u001b[0;34m'__main__'\u001b[0m\u001b[0;34m:\u001b[0m\u001b[0;34m\u001b[0m\u001b[0;34m\u001b[0m\u001b[0m\n\u001b[1;32m     17\u001b[0m     \u001b[0mmain\u001b[0m\u001b[0;34m(\u001b[0m\u001b[0;34m)\u001b[0m\u001b[0;34m\u001b[0m\u001b[0;34m\u001b[0m\u001b[0m\n",
      "\u001b[0;31mNameError\u001b[0m: name 'mutiplication' is not defined"
     ]
    }
   ],
   "source": [
    "def addtion(x,y):\n",
    "    return x+y\n",
    "\n",
    "def multiplication(x,y):\n",
    "    return x * y\n",
    "\n",
    "def divied_by_2(x):\n",
    "    return x / 2\n",
    "\n",
    "def main():\n",
    "    base_line = float(input(\"밑변의 길이 : \"))\n",
    "    upper_edge = float(input(\"윗변의 길이 : \"))\n",
    "    height = float(input(\"높이 : \"))\n",
    "    \n",
    "    print(\"넓이 : \",mutiplication(divied_by_2( addtion(base_line+upper_edge)),height))\n",
    "if __name__=='__main__':\n",
    "    main()\n",
    "# 함수를 만들고 잘 작동하는지 확인!\n",
    "# if __name__=='__main__':\n",
    "#     print(addtion(10,5))\n",
    "#     print(multiplication(10,5))\n",
    "#     print(divied_by_2(50))\n"
   ]
  },
  {
   "cell_type": "code",
   "execution_count": null,
   "id": "b81bbf2a",
   "metadata": {},
   "outputs": [],
   "source": []
  },
  {
   "cell_type": "code",
   "execution_count": null,
   "id": "e2b5f4d8",
   "metadata": {},
   "outputs": [],
   "source": []
  }
 ],
 "metadata": {
  "kernelspec": {
   "display_name": "Python 3 (ipykernel)",
   "language": "python",
   "name": "python3"
  },
  "language_info": {
   "codemirror_mode": {
    "name": "ipython",
    "version": 3
   },
   "file_extension": ".py",
   "mimetype": "text/x-python",
   "name": "python",
   "nbconvert_exporter": "python",
   "pygments_lexer": "ipython3",
   "version": "3.9.13"
  }
 },
 "nbformat": 4,
 "nbformat_minor": 5
}
