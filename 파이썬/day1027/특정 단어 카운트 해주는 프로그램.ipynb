{
 "cells": [
  {
   "cell_type": "markdown",
   "id": "d3a558c2",
   "metadata": {},
   "source": [
    "## Lab : 단어 카운팅\n",
    "\n",
    "앞에서 배운 문자열의 여러 기능을 사용하여 단어 카운팅 프로그램을 만들어 보자.\n",
    "이번에 진행할 Lab은 팝 그륩 비틀즈의 <Yesterday>라는 노래에서 yesterday라는 단어가 몇번 나오는지 맞히는 카운팅 프로그램이다.\n",
    "    "
   ]
  },
  {
   "cell_type": "code",
   "execution_count": 3,
   "id": "61a14ecc",
   "metadata": {},
   "outputs": [
    {
     "name": "stdout",
     "output_type": "stream",
     "text": [
      "n_of_yesterday : 9 개\n"
     ]
    }
   ],
   "source": [
    "f = open(\"yesterday.txt\", \"r\")\n",
    "yesterday_lyric = f.readlines()\n",
    "f.close()\n",
    "\n",
    "\n",
    "contents = \"\" \n",
    "for line in yesterday_lyric:\n",
    "    contents = contents + line.strip() + \"\\n\"\n",
    "    \n",
    "n_of_yesterday = contents.upper().count(\"YESTERDAY\")\n",
    "print(\"n_of_yesterday :\" , n_of_yesterday, \"개\")"
   ]
  },
  {
   "cell_type": "code",
   "execution_count": null,
   "id": "d8903e6d",
   "metadata": {},
   "outputs": [],
   "source": []
  }
 ],
 "metadata": {
  "kernelspec": {
   "display_name": "Python 3 (ipykernel)",
   "language": "python",
   "name": "python3"
  },
  "language_info": {
   "codemirror_mode": {
    "name": "ipython",
    "version": 3
   },
   "file_extension": ".py",
   "mimetype": "text/x-python",
   "name": "python",
   "nbconvert_exporter": "python",
   "pygments_lexer": "ipython3",
   "version": "3.9.13"
  }
 },
 "nbformat": 4,
 "nbformat_minor": 5
}
