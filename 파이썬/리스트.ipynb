{
 "cells": [
  {
   "cell_type": "markdown",
   "id": "2c30c7f4",
   "metadata": {},
   "source": [
    "## 리스트의 개념"
   ]
  },
  {
   "cell_type": "markdown",
   "id": "4b548c8f",
   "metadata": {},
   "source": [
    "### 리스트 :  하나의 변수에 여러 값을 할당하는 자료형이다.\n",
    "파이썬에서는 리스트처럼 여러 데이터를 하나의 변수에 할당하는 기법을 시퀀스 자료형이라고 한다.\n",
    "리스트는 하나의 자료형으로만 저장하지 않고 정수형이나 실수형 같은 다양한 자료형을 포함 할 수 있다."
   ]
  },
  {
   "cell_type": "markdown",
   "id": "ccde4452",
   "metadata": {},
   "source": [
    "**인덱싱** : 리스트에 있는 값에 접근하기 위해, 이 값의 상대적인 주소를 사용하는 것이다."
   ]
  },
  {
   "cell_type": "markdown",
   "id": "4b1c78fd",
   "metadata": {},
   "source": [
    "### 리스트의 주소값은 왜 0부터 시작하는가?\n",
    "\n",
    "프로그래밍 언어 대부분에서 배열 계열 변수의 주소값은 0부터 시작한다. 여러 가지 이유가 있지만, 일단 1부터 시작하는 것 보다 0부터 시작하면 이진수 관점에서 메모리를 절약할 수 있다는 장점이 있다. 또한, 1보다 0부터 시작하는 것이 진수에서 00부터 사용할 수 있다는 장점이 있다. 지금은 큰 문제가 안 되지만, 초기 컴퓨터들은 메모리 절약이 매우 큰 이슈였기 때문에 이 점은 매우 중요했다.\n",
    "비주얼 베이직이나 매트랩 같은 언어에서는 1부터 인덱싱을 하기도 하니 알아두면 좋다!"
   ]
  },
  {
   "cell_type": "code",
   "execution_count": 2,
   "id": "873c8a4d",
   "metadata": {},
   "outputs": [
    {
     "name": "stdout",
     "output_type": "stream",
     "text": [
      "red\n",
      "green\n",
      "3\n"
     ]
    }
   ],
   "source": [
    "colors = ['red', 'blue', 'green']\n",
    "print(colors[0])\n",
    "print(colors[2])\n",
    "print(len(colors))"
   ]
  },
  {
   "cell_type": "markdown",
   "id": "f8c5765a",
   "metadata": {},
   "source": [
    "- **슬라이싱** : 리스트의 인덱스를 사용하여 전체 리스트에서 일부를 잘라내어 반환한다.\n",
    "        변수명[시작인덱스 : 마지막 인덱스-1]\n"
   ]
  },
  {
   "cell_type": "code",
   "execution_count": 5,
   "id": "394f1b67",
   "metadata": {},
   "outputs": [
    {
     "name": "stdout",
     "output_type": "stream",
     "text": [
      "['서울', '부산', '인천', '대구', '대전', '광주']\n",
      "['서울', '부산', '인천', '대구', '대전']\n",
      "['서울', '부산', '인천', '대구', '대전', '광주', '울산', '수원']\n",
      "[]\n",
      "['서울', '부산', '인천', '대구', '대전', '광주', '울산', '수원']\n"
     ]
    }
   ],
   "source": [
    "cities = ['서울', '부산', '인천', '대구', '대전', '광주', '울산', '수원']\n",
    "print(cities[0:6])\n",
    "print(cities[0:5])\n",
    "print(cities[-50:50])\n",
    "print(cities[1:1])\n",
    "print(cities[:])"
   ]
  },
  {
   "cell_type": "code",
   "execution_count": 6,
   "id": "ea4da7a8",
   "metadata": {},
   "outputs": [
    {
     "name": "stdout",
     "output_type": "stream",
     "text": [
      "['서울', '부산', '인천', '대구', '대전', '광주', '울산', '수원']\n",
      "['서울', '부산', '인천']\n",
      "['수원']\n"
     ]
    }
   ],
   "source": [
    "print(cities[-8:])\n",
    "print(cities[-8:3])\n",
    "print(cities[-1:])"
   ]
  },
  {
   "cell_type": "markdown",
   "id": "3e25b805",
   "metadata": {},
   "source": [
    "### 증가값\n",
    "\n",
    "슬라싱에서는 시작 인덱스와 마지막 인덱스 외에 마지막 자리에 증가값을 넣을 수 있다.\n",
    "증가값은 한 번에 건너뛰는 값의 개수이다."
   ]
  },
  {
   "cell_type": "code",
   "execution_count": 8,
   "id": "207317ef",
   "metadata": {},
   "outputs": [
    {
     "name": "stdout",
     "output_type": "stream",
     "text": [
      "['서울', '인천', '대전', '울산']\n",
      "['수원', '대전', '부산']\n"
     ]
    }
   ],
   "source": [
    "print(cities[::2])\n",
    "print(cities[::-3])"
   ]
  },
  {
   "cell_type": "markdown",
   "id": "772ff186",
   "metadata": {},
   "source": [
    "### 리스트의 연산\n",
    "덧셈 연산 :  덧셈 연산을 하더라도 따로 어딘가 변수에 할당해 주지 않으면 변화가 없다."
   ]
  },
  {
   "cell_type": "code",
   "execution_count": 10,
   "id": "32e56ba0",
   "metadata": {},
   "outputs": [
    {
     "name": "stdout",
     "output_type": "stream",
     "text": [
      "['red', 'green', 'blue', 'orange', 'black', 'white']\n"
     ]
    }
   ],
   "source": [
    "color1 = ['red', 'green' , 'blue']\n",
    "color2 = ['orange', 'black' , 'white']\n",
    "total = color1 + color2\n",
    "print(total)"
   ]
  },
  {
   "cell_type": "code",
   "execution_count": 13,
   "id": "d035ec98",
   "metadata": {},
   "outputs": [
    {
     "name": "stdout",
     "output_type": "stream",
     "text": [
      "['red', 'green', 'blue', 'red', 'green', 'blue', 'red', 'green', 'blue']\n"
     ]
    }
   ],
   "source": [
    "color3 = color1 * 3\n",
    "print(color3)"
   ]
  },
  {
   "cell_type": "code",
   "execution_count": 14,
   "id": "f372e31b",
   "metadata": {},
   "outputs": [
    {
     "name": "stdout",
     "output_type": "stream",
     "text": [
      "False\n",
      "True\n"
     ]
    }
   ],
   "source": [
    "print('blue' in color2)\n",
    "print('blue' in color1)"
   ]
  },
  {
   "cell_type": "markdown",
   "id": "c2f516a6",
   "metadata": {},
   "source": [
    "**append()** 함수 : 새로운 값을 기존 리스트의 맨 끝에 추가"
   ]
  },
  {
   "cell_type": "code",
   "execution_count": 15,
   "id": "fe1d56f8",
   "metadata": {},
   "outputs": [
    {
     "name": "stdout",
     "output_type": "stream",
     "text": [
      "['red', 'green', 'blue', 'white']\n"
     ]
    }
   ],
   "source": [
    "colors = ['red', 'green' , 'blue']\n",
    "colors.append(\"white\")\n",
    "print(colors)"
   ]
  },
  {
   "cell_type": "markdown",
   "id": "24eaafa7",
   "metadata": {},
   "source": [
    "**extend()** 함수 :  새로운 리스트를 기존 리스트에 추가"
   ]
  },
  {
   "cell_type": "code",
   "execution_count": 16,
   "id": "86a3733f",
   "metadata": {},
   "outputs": [
    {
     "name": "stdout",
     "output_type": "stream",
     "text": [
      "['red', 'green', 'blue', 'white', 'black', 'white']\n"
     ]
    }
   ],
   "source": [
    "colors.extend([\"black\", \"white\"])\n",
    "print(colors) ## 리스트는 중복 값 허용"
   ]
  },
  {
   "cell_type": "markdown",
   "id": "3595fdf0",
   "metadata": {},
   "source": [
    "**Insert()** 함수 : 기존 리스트의 i번째 인덱스에 새로운 값을 추가, i번째 인덱스를 기준으로 뒤쪽의 인덱스가 하나씩 밀림."
   ]
  },
  {
   "cell_type": "code",
   "execution_count": 18,
   "id": "989296ac",
   "metadata": {},
   "outputs": [
    {
     "name": "stdout",
     "output_type": "stream",
     "text": [
      "['orange', 'red', 'green', 'blue', 'white', 'black', 'white']\n"
     ]
    }
   ],
   "source": [
    "colors.insert(0,'orange')\n",
    "print(colors)"
   ]
  },
  {
   "cell_type": "markdown",
   "id": "9815c05a",
   "metadata": {},
   "source": [
    "**remove()** 함수 : 리스트 내의 특정 값을 삭제."
   ]
  },
  {
   "cell_type": "code",
   "execution_count": 19,
   "id": "f45a02e1",
   "metadata": {},
   "outputs": [
    {
     "name": "stdout",
     "output_type": "stream",
     "text": [
      "['orange', 'red', 'green', 'blue', 'black', 'white']\n"
     ]
    }
   ],
   "source": [
    "colors.remove(\"white\")\n",
    "print(colors)"
   ]
  },
  {
   "cell_type": "markdown",
   "id": "e60f6d9f",
   "metadata": {},
   "source": [
    "**인덱스 삭제** del 함수를 사용한다."
   ]
  },
  {
   "cell_type": "code",
   "execution_count": 20,
   "id": "be2003b0",
   "metadata": {},
   "outputs": [
    {
     "name": "stdout",
     "output_type": "stream",
     "text": [
      "['orange', 'red', 'green', 'blue', 'black']\n"
     ]
    }
   ],
   "source": [
    "del colors[5]\n",
    "print(colors)"
   ]
  },
  {
   "cell_type": "code",
   "execution_count": 21,
   "id": "4aa59e08",
   "metadata": {},
   "outputs": [
    {
     "name": "stdout",
     "output_type": "stream",
     "text": [
      "['orange', 'blue', 'black']\n"
     ]
    }
   ],
   "source": [
    "del colors[1:3]\n",
    "print(colors)"
   ]
  },
  {
   "cell_type": "code",
   "execution_count": 24,
   "id": "f758bfd1",
   "metadata": {},
   "outputs": [
    {
     "name": "stdout",
     "output_type": "stream",
     "text": [
      "usage: mv [-f | -i | -n] [-hv] source target\r\n",
      "       mv [-f | -i | -n] [-v] source ... directory\r\n"
     ]
    }
   ],
   "source": [
    "%mv  /day1025"
   ]
  }
 ],
 "metadata": {
  "kernelspec": {
   "display_name": "Python 3 (ipykernel)",
   "language": "python",
   "name": "python3"
  },
  "language_info": {
   "codemirror_mode": {
    "name": "ipython",
    "version": 3
   },
   "file_extension": ".py",
   "mimetype": "text/x-python",
   "name": "python",
   "nbconvert_exporter": "python",
   "pygments_lexer": "ipython3",
   "version": "3.9.13"
  }
 },
 "nbformat": 4,
 "nbformat_minor": 5
}
