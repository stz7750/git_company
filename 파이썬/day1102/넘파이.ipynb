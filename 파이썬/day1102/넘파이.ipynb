{
 "cells": [
  {
   "cell_type": "markdown",
   "id": "18367168",
   "metadata": {},
   "source": [
    "파이썬을 사용하면 쉽게 데이터 분석 가능\n",
    "목적에 맞는 패키지를 설치하면 더 쉽게 데이터 분석 가능\n",
    "필요한 패키지를 pip 명령어로 설치 가능."
   ]
  },
  {
   "cell_type": "markdown",
   "id": "58dcb4a9",
   "metadata": {},
   "source": [
    "# 넘파이로 배열 다루기\n",
    "\n",
    "- 넘파이는 배열과 행렬을 쉽게 사용하게 해주는 패키지\n",
    "- 속도가 매우 빠르고 응용이 쉬움"
   ]
  },
  {
   "cell_type": "code",
   "execution_count": 3,
   "id": "46dae3f9",
   "metadata": {},
   "outputs": [
    {
     "name": "stdout",
     "output_type": "stream",
     "text": [
      "[[2 3]\n",
      " [5 2]]\n"
     ]
    }
   ],
   "source": [
    "import numpy as np\n",
    "a = np.array([[2,3],[5,2]])\n",
    "print(a)"
   ]
  },
  {
   "cell_type": "code",
   "execution_count": 5,
   "id": "814c7e3b",
   "metadata": {},
   "outputs": [
    {
     "name": "stdout",
     "output_type": "stream",
     "text": [
      "[[ 1  2  3  4  5]\n",
      " [ 2  4  6  8 10]\n",
      " [ 5  6  7  8  9]]\n",
      "6\n",
      "6\n",
      "[[ 8 10]\n",
      " [ 8  9]]\n"
     ]
    }
   ],
   "source": [
    "d = np.array([[1,2,3,4,5],[2,4,6,8,10],[5,6,7,8,9]])\n",
    "print(d)\n",
    "\n",
    "#배열 슬라이싱 하기\n",
    "\n",
    "print(d[1][2])\n",
    "print(d[1,2])\n",
    "print(d[1:,3:])"
   ]
  },
  {
   "cell_type": "code",
   "execution_count": 9,
   "id": "4ef6ed41",
   "metadata": {},
   "outputs": [
    {
     "name": "stdout",
     "output_type": "stream",
     "text": [
      "(5,)\n",
      "(2, 4)\n"
     ]
    }
   ],
   "source": [
    "#배열의 크기 알아내기:shape\n",
    "# 배열의 행과 열을 튜플로 반환\n",
    "\n",
    "d = np.array([2,3,4,5,6])\n",
    "print(d.shape)\n",
    "\n",
    "e = np.array([[1,2,3,4],[3,4,5,6]])\n",
    "print(e.shape)"
   ]
  },
  {
   "cell_type": "code",
   "execution_count": null,
   "id": "412507ad",
   "metadata": {},
   "outputs": [],
   "source": [
    "#배열 유형 바꾸기 : astype()"
   ]
  },
  {
   "cell_type": "code",
   "execution_count": 14,
   "id": "d4542052",
   "metadata": {},
   "outputs": [
    {
     "name": "stdout",
     "output_type": "stream",
     "text": [
      "int64\n",
      "[1. 2. 3. 4.]\n"
     ]
    }
   ],
   "source": [
    "data = np.arange(1,5)\n",
    "print(data.dtype)\n",
    "data = data.astype('float64')\n",
    "print(data)\n"
   ]
  },
  {
   "cell_type": "code",
   "execution_count": null,
   "id": "b324b96e",
   "metadata": {},
   "outputs": [],
   "source": [
    "#1로 이뤄진 배열 만들기 : np.arange() 2이상 10미만 원소로 이뤄진 배열 생성"
   ]
  },
  {
   "cell_type": "code",
   "execution_count": 19,
   "id": "bcef1643",
   "metadata": {},
   "outputs": [
    {
     "name": "stdout",
     "output_type": "stream",
     "text": [
      "[[0. 0. 0. 0. 0.]]\n",
      "[[1. 1. 1.]\n",
      " [1. 1. 1.]]\n"
     ]
    }
   ],
   "source": [
    "print(np.zeros((1,5)))\n",
    "print(np.ones((2,3)))"
   ]
  },
  {
   "cell_type": "code",
   "execution_count": 22,
   "id": "a4402bc8",
   "metadata": {},
   "outputs": [
    {
     "name": "stdout",
     "output_type": "stream",
     "text": [
      "[[1. 1. 1.]\n",
      " [1. 1. 1.]]\n",
      "[[1. 1.]\n",
      " [1. 1.]\n",
      " [1. 1.]]\n"
     ]
    }
   ],
   "source": [
    "#행과 열 바꾸기 : np.transpose()\n",
    "a = np.ones((2,3)) \n",
    "print(a)\n",
    "b = np.transpose(a)\n",
    "print(b)"
   ]
  },
  {
   "cell_type": "code",
   "execution_count": 24,
   "id": "864a8d38",
   "metadata": {},
   "outputs": [
    {
     "data": {
      "text/plain": [
       "array([[102, 203, 304],\n",
       "       [106, 207, 308]])"
      ]
     },
     "execution_count": 24,
     "metadata": {},
     "output_type": "execute_result"
    }
   ],
   "source": [
    "#배열의 사칙 연산\n",
    "arr1 = np.array([[2,3,4],[6,7,8]])\n",
    "arr2 = np.array([[12,23,14],[36,47,58]])\n",
    "arr3 = np.array([100,200,300])\n",
    "\n",
    "arr1+arr3\n",
    "\n",
    "#크기가 서로 같아야지 사칙 연산 가능.\n"
   ]
  }
 ],
 "metadata": {
  "kernelspec": {
   "display_name": "Python 3 (ipykernel)",
   "language": "python",
   "name": "python3"
  },
  "language_info": {
   "codemirror_mode": {
    "name": "ipython",
    "version": 3
   },
   "file_extension": ".py",
   "mimetype": "text/x-python",
   "name": "python",
   "nbconvert_exporter": "python",
   "pygments_lexer": "ipython3",
   "version": "3.9.13"
  }
 },
 "nbformat": 4,
 "nbformat_minor": 5
}
