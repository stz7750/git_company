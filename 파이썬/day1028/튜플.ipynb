{
 "cells": [
  {
   "cell_type": "markdown",
   "id": "2721a268",
   "metadata": {},
   "source": [
    "## 튜플과 세트\n",
    "\n",
    "**튜플**\n",
    "\n",
    "튜플은 리스트와 같은 개념이지만, 데이터를 변경할 수 없는 자료구조이다.\n",
    "튜플끼리 더하거나 int형과 곱할 수 있다.\n",
    "\n",
    "튜플과 리스트의 유일하면서도 큰 차이점이 있다면, 튜플의 값은 마음대로 변경할 수 없다.\n",
    "만약 튜플의 값을 변경하고 싶다면 오류가 발생한다.\n",
    "\n",
    "튜플은 언제 사용할까?\n",
    "\n",
    "사실 프로그래밍을 하다 보면 자신이 하나의 함수만 만들고, 다른 사람이 그 함수의 결과값을 사용해야 하는 경우가 발생할 수 있다. 이때 반환해 주는 타입을 튜플로 선언하여 받아서 사용하는 사람이 마음대로 데이터를 바꾸지 못하게 할 수 있다.\n",
    "\n",
    "예를 들어 \n",
    "학번, 이름, 주민등록번호와 같이 변경되지 않아야 하는 정보 등이다. 프로그래머가 이러한 이해 없이 마음대로 값을 변경하려고 할 때, 튜플은 이를 방지하는 기능을 한다.\n"
   ]
  },
  {
   "cell_type": "code",
   "execution_count": 5,
   "id": "0181a1b4",
   "metadata": {},
   "outputs": [
    {
     "name": "stdout",
     "output_type": "stream",
     "text": [
      "(10, 20, 30) (10, 20, 30)\n"
     ]
    }
   ],
   "source": [
    "tt1 = (10,20,30)\n",
    "tt2 = 10,20,30\n",
    "print(tt1,tt2)\n"
   ]
  },
  {
   "cell_type": "code",
   "execution_count": 14,
   "id": "7130e4b7",
   "metadata": {},
   "outputs": [
    {
     "name": "stdout",
     "output_type": "stream",
     "text": [
      "10 <class 'int'>\n",
      "(10,) <class 'tuple'>\n"
     ]
    }
   ],
   "source": [
    "# 요소가 하나인 튜플 생성하고 싶다면 , 를 찍으면 된다.\n",
    "tt3 = 10\n",
    "print(tt3, type(tt3))\n",
    "\n",
    "tt4 = (10,)\n",
    "print(tt4 , type(tt4))"
   ]
  },
  {
   "cell_type": "code",
   "execution_count": 16,
   "id": "43c313eb",
   "metadata": {},
   "outputs": [
    {
     "ename": "TypeError",
     "evalue": "list expected at most 1 argument, got 4",
     "output_type": "error",
     "traceback": [
      "\u001b[0;31m---------------------------------------------------------------------------\u001b[0m",
      "\u001b[0;31mTypeError\u001b[0m                                 Traceback (most recent call last)",
      "\u001b[0;32m/var/folders/gj/rk99c81n5jn0qjwq7ylttb3m0000gn/T/ipykernel_60298/3022552525.py\u001b[0m in \u001b[0;36m<module>\u001b[0;34m\u001b[0m\n\u001b[1;32m      1\u001b[0m \u001b[0ma\u001b[0m \u001b[0;34m=\u001b[0m \u001b[0mtuple\u001b[0m\u001b[0;34m(\u001b[0m\u001b[0;34m)\u001b[0m\u001b[0;34m\u001b[0m\u001b[0;34m\u001b[0m\u001b[0m\n\u001b[0;32m----> 2\u001b[0;31m \u001b[0mb\u001b[0m \u001b[0;34m=\u001b[0m \u001b[0mlist\u001b[0m\u001b[0;34m(\u001b[0m\u001b[0;36m5\u001b[0m\u001b[0;34m,\u001b[0m\u001b[0;36m6\u001b[0m\u001b[0;34m,\u001b[0m\u001b[0;36m7\u001b[0m\u001b[0;34m,\u001b[0m\u001b[0;36m8\u001b[0m\u001b[0;34m)\u001b[0m\u001b[0;34m\u001b[0m\u001b[0;34m\u001b[0m\u001b[0m\n\u001b[0m\u001b[1;32m      3\u001b[0m \u001b[0ma1\u001b[0m \u001b[0;34m=\u001b[0m \u001b[0mtuple\u001b[0m\u001b[0;34m(\u001b[0m\u001b[0mrange\u001b[0m\u001b[0;34m(\u001b[0m\u001b[0;36m10\u001b[0m\u001b[0;34m)\u001b[0m\u001b[0;34m)\u001b[0m\u001b[0;34m\u001b[0m\u001b[0;34m\u001b[0m\u001b[0m\n\u001b[1;32m      4\u001b[0m \u001b[0ma2\u001b[0m \u001b[0;34m=\u001b[0m \u001b[0mtuple\u001b[0m\u001b[0;34m(\u001b[0m\u001b[0;34m[\u001b[0m\u001b[0;36m1\u001b[0m\u001b[0;34m,\u001b[0m\u001b[0;36m2\u001b[0m\u001b[0;34m,\u001b[0m\u001b[0;36m3\u001b[0m\u001b[0;34m,\u001b[0m\u001b[0;36m4\u001b[0m\u001b[0;34m]\u001b[0m\u001b[0;34m)\u001b[0m \u001b[0;31m# list -> tuple\u001b[0m\u001b[0;34m\u001b[0m\u001b[0;34m\u001b[0m\u001b[0m\n\u001b[1;32m      5\u001b[0m \u001b[0;34m\u001b[0m\u001b[0m\n",
      "\u001b[0;31mTypeError\u001b[0m: list expected at most 1 argument, got 4"
     ]
    }
   ],
   "source": [
    "a = tuple()\n",
    "\n",
    "a1 = tuple(range(10))\n",
    "a2 = tuple([1,2,3,4]) # list -> tuple\n"
   ]
  },
  {
   "cell_type": "code",
   "execution_count": 17,
   "id": "92b705d6",
   "metadata": {},
   "outputs": [],
   "source": [
    "del(a1)"
   ]
  },
  {
   "cell_type": "code",
   "execution_count": 44,
   "id": "86fb504f",
   "metadata": {},
   "outputs": [
    {
     "name": "stdout",
     "output_type": "stream",
     "text": [
      "[10, 20, 30, 40] <class 'list'>\n",
      "(10, 20, 30, 40) <class 'tuple'>\n"
     ]
    }
   ],
   "source": [
    "myTuple = (10,20,30)\n",
    "# 3번 인덱스에 40 추가\n",
    "\n",
    "myList = list(myTuple)\n",
    "myList.append(40)\n",
    "\n",
    "print(myList , type(myList))\n",
    "myTuple = tuple(myList)\n",
    "print(myTuple ,type(myTuple))"
   ]
  },
  {
   "cell_type": "code",
   "execution_count": 45,
   "id": "85e4812c",
   "metadata": {},
   "outputs": [
    {
     "name": "stdout",
     "output_type": "stream",
     "text": [
      "('a', 'b', 10, 20, 30, 40)\n",
      "('a', 'b', 'a', 'b')\n"
     ]
    }
   ],
   "source": [
    "tt1 = ('a','b')\n",
    "print(tt1+ myTuple)\n",
    "print(tt1*2)"
   ]
  }
 ],
 "metadata": {
  "kernelspec": {
   "display_name": "Python 3 (ipykernel)",
   "language": "python",
   "name": "python3"
  },
  "language_info": {
   "codemirror_mode": {
    "name": "ipython",
    "version": 3
   },
   "file_extension": ".py",
   "mimetype": "text/x-python",
   "name": "python",
   "nbconvert_exporter": "python",
   "pygments_lexer": "ipython3",
   "version": "3.9.13"
  }
 },
 "nbformat": 4,
 "nbformat_minor": 5
}
