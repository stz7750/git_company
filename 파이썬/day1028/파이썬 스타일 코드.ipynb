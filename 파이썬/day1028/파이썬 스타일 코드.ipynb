{
 "cells": [
  {
   "cell_type": "markdown",
   "id": "fa21c5fc",
   "metadata": {},
   "source": [
    "**문자열의 분리 : split()함수 **\n",
    "\n",
    "split()함수 : 문자열의 값을 특정 값을 기준으로 분리하여 리스트 형태로 변환하는 방법이다.\n",
    "\n",
    "items ='zero one two three'.split() # 빈칸을 기준으로 문자열 분리하기.\n",
    "print(items)\n",
    "['zero','one','two',three']\n",
    "\n",
    "example = 'python,juquery,javascript'\n",
    "example.split(\",\")\n",
    "[python, jquery, javascript']"
   ]
  },
  {
   "cell_type": "markdown",
   "id": "540fb984",
   "metadata": {},
   "source": [
    "**문자열의 결합 : join() 함수 **\n",
    "\n",
    "join() 함수 :  문자열로 구성된 리스트를 합쳐 하나의 문자열로 반환할 때 사용한다.\n",
    "사용하는 방법은 구부자.join(리스트형)형태로 사용할 수 있다."
   ]
  },
  {
   "cell_type": "code",
   "execution_count": 6,
   "id": "b7e4a587",
   "metadata": {},
   "outputs": [
    {
     "name": "stdout",
     "output_type": "stream",
     "text": [
      "red blue green yellow\n",
      "red,blue,green,yellow\n",
      "red.blue.green.yellow\n"
     ]
    }
   ],
   "source": [
    "colors = ['red','blue','green','yellow']\n",
    "result = ' '.join(colors)\n",
    "print(result)\n",
    "result1 = ','.join(colors)\n",
    "print(result1)\n",
    "result2 = '.'.join(colors)\n",
    "print(result2)"
   ]
  },
  {
   "cell_type": "markdown",
   "id": "7a5705d4",
   "metadata": {},
   "source": [
    "** 리스트 컴프리헨션 **\n",
    "\n",
    "- 리스트 캠프리헨션 (list comprehension)의 기본 개념은 기존 리스트형을 사용하여 간단하게 새로운 리스트를 만드는 기법이다. 리스트와 for문을 한 줄에 사용할 수 있는 장점이 있다.\n"
   ]
  },
  {
   "cell_type": "code",
   "execution_count": 7,
   "id": "8632a173",
   "metadata": {},
   "outputs": [
    {
     "data": {
      "text/plain": [
       "[0, 1, 2, 3, 4, 5, 6, 7, 8, 9]"
      ]
     },
     "execution_count": 7,
     "metadata": {},
     "output_type": "execute_result"
    }
   ],
   "source": [
    "# 일반적인 반복문 + 리스트\n",
    "result = []\n",
    "for i in range(10):\n",
    "    result.append(i)\n",
    "result\n"
   ]
  },
  {
   "cell_type": "code",
   "execution_count": 8,
   "id": "31579a5f",
   "metadata": {},
   "outputs": [
    {
     "data": {
      "text/plain": [
       "[0, 1, 2, 3, 4, 5, 6, 7, 8, 9]"
      ]
     },
     "execution_count": 8,
     "metadata": {},
     "output_type": "execute_result"
    }
   ],
   "source": [
    "# 리스트 컴프리헨션 (이거 중요함)\n",
    "result = [i for i in range(10)]\n",
    "result"
   ]
  },
  {
   "cell_type": "code",
   "execution_count": 11,
   "id": "4e32456d",
   "metadata": {},
   "outputs": [
    {
     "name": "stdout",
     "output_type": "stream",
     "text": [
      "[10, 11, 12, 13, 14]\n"
     ]
    }
   ],
   "source": [
    "result2 = list(i+10 for i in range(5))\n",
    "print(result2)"
   ]
  },
  {
   "cell_type": "markdown",
   "id": "d8e9bc6b",
   "metadata": {},
   "source": [
    "** 리스트 컴프리헨션 용법 : 필터링 **\n",
    "-  필터링은 if문과 함께 사용하는 리스트 컴프리헨션이다. 일반적으로 짝수만 저장하기 위해서는 다음과 같은 코드를 작성해야 한다.\n"
   ]
  },
  {
   "cell_type": "code",
   "execution_count": 13,
   "id": "2f9d8428",
   "metadata": {},
   "outputs": [
    {
     "data": {
      "text/plain": [
       "[0, 2, 4, 6, 8]"
      ]
     },
     "execution_count": 13,
     "metadata": {},
     "output_type": "execute_result"
    }
   ],
   "source": [
    "result = [i for i in range(10) if i%2 == 0]\n",
    "result"
   ]
  },
  {
   "cell_type": "code",
   "execution_count": 15,
   "id": "81a5ccdf",
   "metadata": {},
   "outputs": [
    {
     "data": {
      "text/plain": [
       "[0, 10, 2, 10, 4, 10, 6, 10, 8, 10]"
      ]
     },
     "execution_count": 15,
     "metadata": {},
     "output_type": "execute_result"
    }
   ],
   "source": [
    "result = [i if i%2 == 0 else 10 for i in range(10)]\n",
    "result"
   ]
  },
  {
   "cell_type": "markdown",
   "id": "645e7171",
   "metadata": {},
   "source": [
    "#### [식 for 변수 in 리스트 if 조건식]\n",
    "#### [식 if 조건식 else 식 for 변수 in 리스트]"
   ]
  },
  {
   "cell_type": "markdown",
   "id": "0c52ddbf",
   "metadata": {},
   "source": [
    "**리스트 컴프리헨션 용법 :  중첩 반복문**\n",
    "리스트 컴프리헨션에서도 기존처럼 리스트 2개를 섞어 사용할 수 있다.\n",
    "다음 코드와 같이 2개의 for문을 만들 수 있다."
   ]
  },
  {
   "cell_type": "code",
   "execution_count": 21,
   "id": "8643c2dc",
   "metadata": {},
   "outputs": [
    {
     "name": "stdout",
     "output_type": "stream",
     "text": [
      "['hw', 'ho', 'hr', 'hl', 'hd', 'ew', 'eo', 'er', 'el', 'ed', 'lw', 'lo', 'lr', 'll', 'ld', 'lw', 'lo', 'lr', 'll', 'ld', 'ow', 'oo', 'or', 'ol', 'od']\n"
     ]
    }
   ],
   "source": [
    "word_1 = \"hello\"\n",
    "word_2 = \"world\"\n",
    "result = [i+j for i in word_1 for j in word_2] # 중첩 반복문\n",
    "print(result)"
   ]
  },
  {
   "cell_type": "code",
   "execution_count": 23,
   "id": "09073981",
   "metadata": {},
   "outputs": [
    {
     "data": {
      "text/plain": [
       "['ad', 'ae', 'bd', 'be', 'ba', 'cd', 'ce', 'ca']"
      ]
     },
     "execution_count": 23,
     "metadata": {},
     "output_type": "execute_result"
    }
   ],
   "source": [
    "case_1 = ['a','b','c']\n",
    "case_2 = ['d','e','a']\n",
    "result = [i + j for i in case_1 for j in case_2 if not(i==j)]\n",
    "result"
   ]
  },
  {
   "cell_type": "markdown",
   "id": "cec15b22",
   "metadata": {},
   "source": [
    "**리스트 컴프리헨션 용법 : 이차원 리스트 **"
   ]
  },
  {
   "cell_type": "code",
   "execution_count": 25,
   "id": "a6744dec",
   "metadata": {},
   "outputs": [
    {
     "name": "stdout",
     "output_type": "stream",
     "text": [
      "['the', 'quick', 'brown', 'fox', 'jumps', 'over', 'the', 'lazy', 'dog']\n"
     ]
    }
   ],
   "source": [
    "words = 'The quick brown fox jumps over the lazy dog'.split()\n",
    "print(words)\n",
    "stuff = [[w.upper(), w.lower(), len(w)]for w in words] \n",
    "# 리스트의 각 요소를 대문자, 소문자, 길이로 변환하여 이차원 리스트 변환"
   ]
  },
  {
   "cell_type": "code",
   "execution_count": 27,
   "id": "32818b43",
   "metadata": {},
   "outputs": [
    {
     "data": {
      "text/plain": [
       "[['ad', 'bd', 'cd'], ['ae', 'be', 'ce'], ['aa', 'ba', 'ca']]"
      ]
     },
     "execution_count": 27,
     "metadata": {},
     "output_type": "execute_result"
    }
   ],
   "source": [
    "result = [[i + j for i in case_1]for j in case_2]\n",
    "result"
   ]
  }
 ],
 "metadata": {
  "kernelspec": {
   "display_name": "Python 3 (ipykernel)",
   "language": "python",
   "name": "python3"
  },
  "language_info": {
   "codemirror_mode": {
    "name": "ipython",
    "version": 3
   },
   "file_extension": ".py",
   "mimetype": "text/x-python",
   "name": "python",
   "nbconvert_exporter": "python",
   "pygments_lexer": "ipython3",
   "version": "3.9.13"
  }
 },
 "nbformat": 4,
 "nbformat_minor": 5
}
