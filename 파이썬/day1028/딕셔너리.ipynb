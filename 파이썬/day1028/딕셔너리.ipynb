{
 "cells": [
  {
   "cell_type": "markdown",
   "id": "11d78ad4",
   "metadata": {},
   "source": [
    "**딕셔너리(dictionary) : 전화번호부 같이 키 와 값의 형태로 데이터를 저장하는 자료구조**\n",
    "파이썬에서의 딕셔너리\n",
    "\n",
    "파이썬에서 딕셔너리의 선언은 중괄호(()}를 사용하여 값의 쌍으로 구성하면 된다\n",
    "해당 변수에서 특정 값을 호출하는 방법이다. 해당 값의 키를 대괄호 []안에 넣으면 꺼내오는것을 할 수 있다. 변수의 자료형을 모르고 호출한다면, 리스트로 오해 받을 수 있다.\n",
    "\n",
    "딕셔너리의 함수\n",
    "\n",
    " - 파이썬에서는 딕셔너리를 쉽게 사용할 수 있도록 다양한 함수를 제공한다.\n",
    " - 국가명과 국가 전화번호를 묶어서 보여주는 코드를 작성해보자\n",
    " \n"
   ]
  },
  {
   "cell_type": "code",
   "execution_count": 61,
   "id": "72c2d52a",
   "metadata": {},
   "outputs": [
    {
     "name": "stdout",
     "output_type": "stream",
     "text": [
      "{}\n",
      "{'America': 1, 'korea': 82, 'China': 86, 'Japan': 81}\n",
      "country: America\n",
      "code :  1\n",
      "country: korea\n",
      "code :  82\n",
      "country: China\n",
      "code :  86\n",
      "country: Japan\n",
      "code :  81\n",
      "country: German\n",
      "code :  49\n"
     ]
    }
   ],
   "source": [
    "country_code = {}\n",
    "print(country_code)\n",
    "country_code = {\"America\":1 , \"korea\" : 82, \"China\" : 86, \"Japan\" : 81}\n",
    "print(country_code)\n",
    "country_code\n",
    "\n",
    "country_code.keys()\n",
    "country_code[\"German\"] = 49 # 딕셔너리 추가\n",
    "country_code\n",
    "country_code.values()\n",
    "country_code.items()\n",
    "\"korea\" in country_code.keys() # korea라는 키 값이 존재하는지 true , flase로 알려줌\n",
    "82 in country_code.values()\n",
    "\n",
    "for k,v in country_code.items():\n",
    "    print('country:' ,k)\n",
    "    print('code : ' ,v)\n"
   ]
  },
  {
   "attachments": {},
   "cell_type": "markdown",
   "id": "268982be",
   "metadata": {},
   "source": [
    "문제 1\n",
    "2022년 10월 세번째 주의 삼성전자 종가는 아래 표와 같습니다. 10/17일의 종가를 리스트의 첫 번째 항목으로 입력해서 ss_closing_price라는 이름의 리스트를 만들어보세요.\n",
    "\n",
    "표1 삼성전자 종가\n",
    "\n",
    "날짜\t요일\t종가\n",
    "10/21\t금\t55,900\n",
    "10/20\t목\t55,500\n",
    "10/19\t수\t55,800\n",
    "10/18\t화\t56,500\n",
    "10/17\t월\t56,600\n"
   ]
  },
  {
   "cell_type": "code",
   "execution_count": 38,
   "id": "3b3c9ce4",
   "metadata": {},
   "outputs": [
    {
     "name": "stdout",
     "output_type": "stream",
     "text": [
      "[56600, 56500, 55800, 55500, 55900]\n"
     ]
    }
   ],
   "source": [
    "ss_closing_price = [56600 , 56500 , 55800 , 55500 , 55900]\n",
    "print(ss_closing_price)"
   ]
  },
  {
   "attachments": {},
   "cell_type": "markdown",
   "id": "f7a222ea",
   "metadata": {},
   "source": [
    "문제 2\n",
    "문제 1에서 만든 ss_closing_price를 이용해 해당 주에 종가를 기준으로 가장 높았던 가격을 출력하세요. (힌트: 리스트에서 최댓값을 찾는 함수는 max()이고, 화면에 출력하는 함수는 print()입니다.)\n"
   ]
  },
  {
   "cell_type": "code",
   "execution_count": 40,
   "id": "32e340ea",
   "metadata": {},
   "outputs": [
    {
     "name": "stdout",
     "output_type": "stream",
     "text": [
      "56600\n"
     ]
    }
   ],
   "source": [
    "print(max(ss_closing_price))"
   ]
  },
  {
   "attachments": {},
   "cell_type": "markdown",
   "id": "751a5ca1",
   "metadata": {},
   "source": [
    "문제 1에서 만든 ss_closing_price를 이용해 해당 주에 종가를 기준으로 가장 낮았던 가격을 출력하세요. (힌트: 리스트에서 최솟값을 찾는 함수는 min()이고, 화면에 출력하는 함수는 print()입니다.)"
   ]
  },
  {
   "cell_type": "code",
   "execution_count": 41,
   "id": "db3e8238",
   "metadata": {},
   "outputs": [
    {
     "name": "stdout",
     "output_type": "stream",
     "text": [
      "55500\n"
     ]
    }
   ],
   "source": [
    "print(min(ss_closing_price))"
   ]
  },
  {
   "attachments": {},
   "cell_type": "markdown",
   "id": "f137e17c",
   "metadata": {},
   "source": [
    "문제 1에서 만든 ss_closing_price를 이용해 해당 주에서 가장 종가가 높았던 요일과 가장 종가가 낮았던 요일의 가격 차를 화면에 출력하세요."
   ]
  },
  {
   "cell_type": "code",
   "execution_count": 42,
   "id": "5cc3d997",
   "metadata": {},
   "outputs": [
    {
     "name": "stdout",
     "output_type": "stream",
     "text": [
      "1100\n"
     ]
    }
   ],
   "source": [
    "kazua = (max(ss_closing_price) - min(ss_closing_price))\n",
    "print(kazua)"
   ]
  },
  {
   "cell_type": "markdown",
   "id": "b671b826",
   "metadata": {},
   "source": [
    "문제 5\n",
    "문제 1에서 만든 ss_closing_price를 이용해 수요일의 종가를 화면에 출력하세요.\n"
   ]
  },
  {
   "cell_type": "code",
   "execution_count": 43,
   "id": "c7295a5f",
   "metadata": {},
   "outputs": [
    {
     "name": "stdout",
     "output_type": "stream",
     "text": [
      "55800\n"
     ]
    }
   ],
   "source": [
    "print(ss_closing_price[2])"
   ]
  },
  {
   "attachments": {},
   "cell_type": "markdown",
   "id": "f3402c54",
   "metadata": {},
   "source": [
    "표1를 이용해 날짜를 딕셔너리의 키 값으로, 종가를 딕셔너리의 값으로 사용해 ss_closing_price2라는 딕셔너리를 만드세요."
   ]
  },
  {
   "cell_type": "code",
   "execution_count": 62,
   "id": "32eb5515",
   "metadata": {},
   "outputs": [
    {
     "name": "stdout",
     "output_type": "stream",
     "text": [
      "{'월': 55600, '화': 56500, '수': 55800, '목': 55500, '금': 55900}\n"
     ]
    },
    {
     "data": {
      "text/plain": [
       "True"
      ]
     },
     "execution_count": 62,
     "metadata": {},
     "output_type": "execute_result"
    }
   ],
   "source": [
    "ss_closing_price2 = dict()\n",
    "ss_closing_price2 = {'월': 55600 , '화': 56500, '수': 55800 ,'목': 55500, '금': 55900}\n",
    "print(ss_closing_price2)"
   ]
  },
  {
   "attachments": {},
   "cell_type": "markdown",
   "id": "9267bbcf",
   "metadata": {},
   "source": [
    "문제 7\n",
    "문제 6에서 만든 ss_closing_price2 딕셔너리를 이용해 10/19일의 종가를 출력하세요."
   ]
  },
  {
   "cell_type": "code",
   "execution_count": 68,
   "id": "5b2685b3",
   "metadata": {},
   "outputs": [
    {
     "name": "stdout",
     "output_type": "stream",
     "text": [
      "55800\n"
     ]
    }
   ],
   "source": [
    "print(ss_closing_price2['수'])"
   ]
  }
 ],
 "metadata": {
  "kernelspec": {
   "display_name": "Python 3 (ipykernel)",
   "language": "python",
   "name": "python3"
  },
  "language_info": {
   "codemirror_mode": {
    "name": "ipython",
    "version": 3
   },
   "file_extension": ".py",
   "mimetype": "text/x-python",
   "name": "python",
   "nbconvert_exporter": "python",
   "pygments_lexer": "ipython3",
   "version": "3.9.13"
  }
 },
 "nbformat": 4,
 "nbformat_minor": 5
}
