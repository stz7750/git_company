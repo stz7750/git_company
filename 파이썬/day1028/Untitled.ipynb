{
 "cells": [
  {
   "cell_type": "markdown",
   "id": "7bdcb1cc",
   "metadata": {},
   "source": [
    "## collections 모듈"
   ]
  },
  {
   "cell_type": "markdown",
   "id": "523a00ad",
   "metadata": {},
   "source": [
    "- 이미 앞에서 배운 다양한 자료구조인 리스트, 튜플, 딕셔너리 등을 확장하여 제작된 파이썬의 내장 모듈이다.\n",
    "- deque, defaultdict , counter , namedtuple 등 제공하며, 각 자료구조를 호출하는 코드는 다음과 같다."
   ]
  },
  {
   "cell_type": "markdown",
   "id": "b1db0a44",
   "metadata": {},
   "source": [
    "- deque 모듈은 스택과 큐를 모두 지원하는 모듈\n",
    "- 사용하기 위해서는 리스트와 비슷한 형식으로 데이터를 저장해야 한다. 먼저 append() 함수를 사용하면 기존 리스트처럼 데이터가 인덱스 번호를 늘리면서 쌓이기 시작한다."
   ]
  },
  {
   "cell_type": "markdown",
   "id": "340d36ec",
   "metadata": {},
   "source": [
    "- orderedDict 모듈은 이름 그대로 순서를 가진 딕셔너리 객체이다. 딕셔너리 파일을 저장하면 키는 저장 순서와 상관없이 저장된다."
   ]
  },
  {
   "cell_type": "markdown",
   "id": "05cc790b",
   "metadata": {},
   "source": [
    "- defalutdict 모듈은 딕셔너리의 변수를 생성할 때 키에 기본 값을 지정하는 방법이다.\n"
   ]
  },
  {
   "cell_type": "code",
   "execution_count": null,
   "id": "aa97f8d8",
   "metadata": {},
   "outputs": [],
   "source": []
  }
 ],
 "metadata": {
  "kernelspec": {
   "display_name": "Python 3 (ipykernel)",
   "language": "python",
   "name": "python3"
  },
  "language_info": {
   "codemirror_mode": {
    "name": "ipython",
    "version": 3
   },
   "file_extension": ".py",
   "mimetype": "text/x-python",
   "name": "python",
   "nbconvert_exporter": "python",
   "pygments_lexer": "ipython3",
   "version": "3.9.13"
  }
 },
 "nbformat": 4,
 "nbformat_minor": 5
}
