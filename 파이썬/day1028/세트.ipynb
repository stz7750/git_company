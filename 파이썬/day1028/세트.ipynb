{
 "cells": [
  {
   "cell_type": "markdown",
   "id": "ec3413ea",
   "metadata": {},
   "source": [
    "## 세트\n",
    "\n",
    "세트는 튜플과 다르게 삭제나 변경이 가능하다. 이 기능을 위해 다양한 함수를 지원한다.\n",
    "\n",
    "add() : 원소 하나를 추가\n",
    "remove(): 원소 하나를 제거\n",
    "update() : 새로운 리스트를 그대로 추가\n",
    "clear() : 모든 변수를 지우기\n",
    "union() : 합집합\n",
    "interesection() : 교집합\n",
    "difference() : 차집합"
   ]
  },
  {
   "cell_type": "code",
   "execution_count": 3,
   "id": "06909baa",
   "metadata": {},
   "outputs": [
    {
     "name": "stdout",
     "output_type": "stream",
     "text": [
      "{1, 2, 3, 4}\n",
      "{1, 2, 3, 4, 6}\n"
     ]
    }
   ],
   "source": [
    "# 중복값이 있는 리스트를 set함수에 넣어줬지만 중복값을 삭제한다.\n",
    "s = set([1,2,3,1,2,4])\n",
    "\n",
    "print(s)\n",
    "s.add(6)\n",
    "s.add(1) # 중복 값을 넣어줬지만 에러는 나지 않는다 하지만 출력해보면 중복값이라 제거되고 출력 되는 것을 볼 수 있다.\n",
    "print(s)"
   ]
  },
  {
   "cell_type": "code",
   "execution_count": 9,
   "id": "2f426bb0",
   "metadata": {},
   "outputs": [
    {
     "data": {
      "text/plain": [
       "{1, 2}"
      ]
     },
     "execution_count": 9,
     "metadata": {},
     "output_type": "execute_result"
    }
   ],
   "source": [
    "s1 = set([1,2,3,4,5])\n",
    "s2 = set([3,4,5,6,7])\n",
    "\n",
    "s1.union(s2)\n",
    "s1|s2\n",
    "s1.intersection(s2)\n",
    "s1&s2\n",
    "s1.difference(s2)\n",
    "s1-s2"
   ]
  }
 ],
 "metadata": {
  "kernelspec": {
   "display_name": "Python 3 (ipykernel)",
   "language": "python",
   "name": "python3"
  },
  "language_info": {
   "codemirror_mode": {
    "name": "ipython",
    "version": 3
   },
   "file_extension": ".py",
   "mimetype": "text/x-python",
   "name": "python",
   "nbconvert_exporter": "python",
   "pygments_lexer": "ipython3",
   "version": "3.9.13"
  }
 },
 "nbformat": 4,
 "nbformat_minor": 5
}
