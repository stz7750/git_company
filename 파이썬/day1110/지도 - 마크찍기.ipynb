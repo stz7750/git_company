{
 "cells": [
  {
   "cell_type": "code",
   "execution_count": 2,
   "id": "ff7d58f6",
   "metadata": {},
   "outputs": [
    {
     "data": {
      "text/plain": [
       "31"
      ]
     },
     "execution_count": 2,
     "metadata": {},
     "output_type": "execute_result"
    }
   ],
   "source": [
    "import folium\n",
    "import pandas as pd\n",
    "\n",
    "CB_geoData = pd.read_csv('/Users/gimtaehun/Downloads/CoffeeBean_store - CoffeeBean_store.csv' , encoding = 'utf-8')\n",
    "\n",
    "len(CB_geoData)"
   ]
  },
  {
   "cell_type": "code",
   "execution_count": 3,
   "id": "537d8991",
   "metadata": {},
   "outputs": [],
   "source": [
    "map_CB = folium.Map(location=[37.5146474 , 127.0320468], zoom_start = 15)\n",
    "\n",
    "for i, store in CB_geoData.iterrows():\n",
    "    folium.Marker(location=[store['Latitude'], store['Longitude']], popup= store['store'], icon=folium.Icon(color='red', icon='star')).add_to(map_CB)"
   ]
  },
  {
   "cell_type": "code",
   "execution_count": 4,
   "id": "7bba68cd",
   "metadata": {},
   "outputs": [],
   "source": [
    "map_CB.save('./data/map_CB.html')"
   ]
  },
  {
   "cell_type": "code",
   "execution_count": 6,
   "id": "82e994a1",
   "metadata": {},
   "outputs": [
    {
     "data": {
      "text/plain": [
       "True"
      ]
     },
     "execution_count": 6,
     "metadata": {},
     "output_type": "execute_result"
    }
   ],
   "source": [
    "import webbrowser\n",
    "\n",
    "webbrowser.open('/Users/gimtaehun/day1110/data/map_CB.html')"
   ]
  }
 ],
 "metadata": {
  "kernelspec": {
   "display_name": "Python 3 (ipykernel)",
   "language": "python",
   "name": "python3"
  },
  "language_info": {
   "codemirror_mode": {
    "name": "ipython",
    "version": 3
   },
   "file_extension": ".py",
   "mimetype": "text/x-python",
   "name": "python",
   "nbconvert_exporter": "python",
   "pygments_lexer": "ipython3",
   "version": "3.9.13"
  }
 },
 "nbformat": 4,
 "nbformat_minor": 5
}
