{
 "cells": [
  {
   "cell_type": "markdown",
   "id": "a6286f13",
   "metadata": {},
   "source": [
    "# 객체 지향 프로그래밍을 배우는 이유\n",
    "\n",
    "- 객체 지향 프로그래밍(object oriented programming, opp)은 함수처럼 어떤 기능을 함수코드에 묶어 두는 것이 아니라, 그런 기능을 묶은 하나의 단일 프로그램을 객체라고 하는 코드에 넣어 다른 프로그래머가 재사용할 수 있도록 하는, 컴퓨터 공학의 프로그래밍 기법 중 하나이다."
   ]
  },
  {
   "cell_type": "markdown",
   "id": "5d931c77",
   "metadata": {},
   "source": [
    "**객체와 클래스 **\n",
    "- 클래스 : 객체가 가져야 할 기본 정보를 담은 코드이다.\n",
    "- 클래스는 일종의 설계도 코드이다.\n",
    "- 실제로 생성되는 객체를 인스턴스(instance)라고 한다."
   ]
  },
  {
   "cell_type": "code",
   "execution_count": null,
   "id": "774ce12e",
   "metadata": {},
   "outputs": [],
   "source": [
    "# 클래스 구현하기\n",
    "#파이썬에서 클래스를 선언하기 위한 기본 코드 템플릿은 다음과 같다.\n",
    "\n",
    "# class SoccerPlayer(object):\n",
    "\n",
    "#상속 받아야하는 다른 클래스의 이름을 괄호안에 넣는다."
   ]
  },
  {
   "cell_type": "code",
   "execution_count": 20,
   "id": "7104c5ee",
   "metadata": {},
   "outputs": [
    {
     "name": "stdout",
     "output_type": "stream",
     "text": [
      "hello, I 'm jinhyun. i play in MF in center\n",
      "현재 선수의 등번호는: 4\n",
      "선수의 등 번호 변경: from 4 to 5\n",
      "현재 선수의 등번호는: 5\n"
     ]
    }
   ],
   "source": [
    "class SoccerPlayer(object):\n",
    "    def __init__(self, name, position, back_number):\n",
    "        self.name = name\n",
    "        self.position = position\n",
    "        self.back_number = back_number\n",
    "        \n",
    "    def change_back_number(self, new_number):\n",
    "        print(\"선수의 등 번호 변경: from %d to %d\" %(self.back_number , new_number))\n",
    "        self.back_number = new_number\n",
    "    def __str__(self):\n",
    "        return \"hello, I 'm %s. i play in %s in center\"%(self.name , self.position)\n",
    "\n",
    "jinhyun = SoccerPlayer(\"jinhyun\",\"MF\", 4)\n",
    "print(jinhyun)\n",
    "print(\"현재 선수의 등번호는:\",jinhyun.back_number)\n",
    "jinhyun.change_back_number(5)\n",
    "print(\"현재 선수의 등번호는:\",jinhyun.back_number)\n",
    "        \n",
    "        "
   ]
  },
  {
   "cell_type": "code",
   "execution_count": null,
   "id": "4f586517",
   "metadata": {},
   "outputs": [],
   "source": []
  },
  {
   "cell_type": "code",
   "execution_count": null,
   "id": "24334f4d",
   "metadata": {},
   "outputs": [],
   "source": []
  },
  {
   "cell_type": "code",
   "execution_count": null,
   "id": "317e343a",
   "metadata": {},
   "outputs": [],
   "source": []
  },
  {
   "cell_type": "markdown",
   "id": "6dfbfa21",
   "metadata": {},
   "source": [
    "# 클래스 구현하기 : _의 쓰임\n",
    "\n",
    "- 일반적으로 파이썬에서 _의 쓰임은 개수에 따라 여러 가지로 나눌 수 있다. 예를 들어 _1개는 이후로 쓰이지 않을 변수에 특별한 이름을 부여하고 싶지 않을 때 사용한다. __ 같이 두개가 쓰이는 경우가 있는데 특수한 예약 함수나 변수에 사용한다."
   ]
  },
  {
   "cell_type": "code",
   "execution_count": 17,
   "id": "8fa39f98",
   "metadata": {},
   "outputs": [
    {
     "name": "stdout",
     "output_type": "stream",
     "text": [
      "sungchul\n"
     ]
    }
   ],
   "source": [
    "class Person(object):\n",
    "    def __init__(self, name, age):\n",
    "        self.name = name\n",
    "        self.age = age\n",
    "        \n",
    "        \n",
    "class korean(Person):\n",
    "    pass\n",
    "\n",
    "first_korean = korean(\"sungchul\",35)\n",
    "print(first_korean.name)"
   ]
  },
  {
   "cell_type": "code",
   "execution_count": 23,
   "id": "69ef8f13",
   "metadata": {},
   "outputs": [
    {
     "name": "stdout",
     "output_type": "stream",
     "text": [
      "<function Person.about_me at 0x7f83c0a375e0>\n"
     ]
    }
   ],
   "source": [
    "class Person(object):\n",
    "    def __init__(self, name, age, gender):\n",
    "        self.name = name\n",
    "        self.age = age\n",
    "        self.gender = gender\n",
    "        \n",
    "    def about_me(self):\n",
    "        print(\"저의 이름은\",self.name,\"이고요, 제 나이는\",str(self.age),\"살 입니다.\")"
   ]
  },
  {
   "cell_type": "code",
   "execution_count": 27,
   "id": "70fb1cac",
   "metadata": {},
   "outputs": [],
   "source": [
    "class Employee(Person):\n",
    "    def __init__(self, name,age,gender,salary,hire_date):\n",
    "        super().__init__(name,age,gender)\n",
    "        self.salary = salary\n",
    "        self.hire_date = hire_date\n",
    "        \n",
    "    def do_work(self):\n",
    "        print(\"열심히 일한다.\")\n",
    "        \n",
    "    def about_me(self):\n",
    "        super().about_me()\n",
    "        print(\"제 급여는\",self.salary, \"원이고 제 입사일은\",self.hire_date,\"입니다.\")\n",
    "    \n",
    "    e1 = Employee(\"python\" , 33 , \"male\", \"3500\", \"22/10/31\")\n",
    "        "
   ]
  },
  {
   "cell_type": "code",
   "execution_count": 28,
   "id": "2b061b5b",
   "metadata": {},
   "outputs": [
    {
     "name": "stdout",
     "output_type": "stream",
     "text": [
      "저의 이름은 python 이고요, 제 나이는 33 살 입니다.\n",
      "제 급여는 3500 원이고 제 입사일은 22/10/31 입니다.\n"
     ]
    }
   ],
   "source": [
    "e1.about_me()"
   ]
  },
  {
   "cell_type": "markdown",
   "id": "37eb3120",
   "metadata": {},
   "source": [
    "# 다형성\n",
    "\n",
    "- 다형성은 같은 이름의 메서드가 다른 기능을 할 수 있도록 하는 것을 말한다.\n"
   ]
  },
  {
   "cell_type": "code",
   "execution_count": 32,
   "id": "fe39dba9",
   "metadata": {},
   "outputs": [
    {
     "name": "stdout",
     "output_type": "stream",
     "text": [
      "Missy:Meow\n",
      "Mr.Mistoffelees:Meow\n",
      "Lassie:woof, woof!\n"
     ]
    }
   ],
   "source": [
    "class Animal:\n",
    "    def __init__(self, name):\n",
    "        self.name = name\n",
    "    def talk(self):\n",
    "        raise NotImplementedError(\"Subclass must implement abstract method\")\n",
    "            \n",
    "class Cat(Animal):\n",
    "     def talk(self):\n",
    "        return \"Meow\"\n",
    "        \n",
    "class Dog(Animal):\n",
    "    def talk(self):\n",
    "        return \"woof, woof!\"\n",
    "            \n",
    "animals = [Cat('Missy'), Cat('Mr.Mistoffelees'),Dog('Lassie')]\n",
    "for animal in animals:\n",
    "    print(animal.name +':'+animal.talk())"
   ]
  }
 ],
 "metadata": {
  "kernelspec": {
   "display_name": "Python 3 (ipykernel)",
   "language": "python",
   "name": "python3"
  },
  "language_info": {
   "codemirror_mode": {
    "name": "ipython",
    "version": 3
   },
   "file_extension": ".py",
   "mimetype": "text/x-python",
   "name": "python",
   "nbconvert_exporter": "python",
   "pygments_lexer": "ipython3",
   "version": "3.9.13"
  }
 },
 "nbformat": 4,
 "nbformat_minor": 5
}
