{
 "cells": [
  {
   "cell_type": "code",
   "execution_count": 45,
   "id": "b4b3587d",
   "metadata": {},
   "outputs": [
    {
     "name": "stdout",
     "output_type": "stream",
     "text": [
      "['', '*', '**', '***', '****', '*****', '******', '*******', '********', '*********']\n"
     ]
    }
   ],
   "source": [
    "list1 = [\"*\"*i for i in range(10)]\n",
    "print(list1)"
   ]
  },
  {
   "cell_type": "code",
   "execution_count": 3,
   "id": "ffc32c57",
   "metadata": {},
   "outputs": [
    {
     "name": "stdout",
     "output_type": "stream",
     "text": [
      "0 tic\n",
      "1 tac\n",
      "2 toe\n"
     ]
    }
   ],
   "source": [
    "for i,v in enumerate(['tic','tac','toe']):\n",
    "    print(i,v)"
   ]
  },
  {
   "cell_type": "code",
   "execution_count": 17,
   "id": "d09574b2",
   "metadata": {},
   "outputs": [
    {
     "name": "stdout",
     "output_type": "stream",
     "text": [
      "{0: 'TEAMLAB', 1: 'is', 2: 'an', 3: 'academic', 4: 'instituete', 5: 'loacated', 6: 'in', 7: 'south', 8: 'korea.'}\n"
     ]
    }
   ],
   "source": [
    "print({i:j for i,j in enumerate('TEAMLAB is an academic instituete loacated in south korea.'.split())})"
   ]
  },
  {
   "cell_type": "code",
   "execution_count": 16,
   "id": "b1570d7f",
   "metadata": {},
   "outputs": [
    {
     "name": "stdout",
     "output_type": "stream",
     "text": [
      "0 a1 b1\n",
      "1 a2 b2\n",
      "2 a3 b3\n"
     ]
    }
   ],
   "source": [
    "# enumerate 함수와 zip 함수를 같이 사용해서 리스트를 묶고 같은 인덱스 끼리의 값을 출력해줄 수 있다.\n",
    "\n",
    "alist = ['a1', 'a2' ,'a3']\n",
    "blist = ['b1', 'b2', 'b3']\n",
    "for i, (a,b) in enumerate(zip(alist, blist)):\n",
    "    print(i,a,b)\n"
   ]
  },
  {
   "cell_type": "code",
   "execution_count": 23,
   "id": "e4ca04a1",
   "metadata": {},
   "outputs": [
    {
     "name": "stdout",
     "output_type": "stream",
     "text": [
      "5\n",
      "5\n",
      "9\n",
      "1.5\n"
     ]
    }
   ],
   "source": [
    "#람다 함수의 사용\n",
    "#함수의 이름 없이, 함수처럼 사용할 수 있는 익명의 함수를 말한다.\n",
    "#일반적으로 람다 함수는 이름을 지정하지 않아도 사용할 수 있다.\n",
    "\n",
    "#일반적인 함수\n",
    "def f(x,y):\n",
    "    return x + y\n",
    "\n",
    "print(f(1,4))\n",
    "\n",
    "\n",
    "# 람다 함수 사용\n",
    "f = lambda x,y:x+y\n",
    "print(f(1,4))\n",
    "\n",
    "f = lambda x:x**2\n",
    "print(f(3))\n",
    "\n",
    "f = lambda x : x/2\n",
    "print(f(3))"
   ]
  },
  {
   "cell_type": "code",
   "execution_count": 30,
   "id": "f76987c3",
   "metadata": {},
   "outputs": [
    {
     "name": "stdout",
     "output_type": "stream",
     "text": [
      "[1, 4, 9, 16, 25]\n",
      "[1, 4, 9, 16, 25]\n",
      "[2, 4, 6, 8, 10]\n"
     ]
    },
    {
     "data": {
      "text/plain": [
       "[1, 4, 3, 16, 5]"
      ]
     },
     "execution_count": 30,
     "metadata": {},
     "output_type": "execute_result"
    }
   ],
   "source": [
    "#맵리듀스\n",
    "#파이썬뿐 아니라, 빅데이터를 처리하기 위한 기본 알고리즘으로도 많이 사용한다.\n",
    "#맵리듀스는 map() , reduce()함수가 있다.\n",
    "#map() : 연속 데이터를 저장하는 시쿼스형에서 요소마다 같은 기능을 적용할 때 사용한다.\n",
    "ex = [1,2,3,4,5]\n",
    "f = lambda x:x**2\n",
    "print(list(map(f,ex)))\n",
    "\n",
    "#리스트 컴프리헨션 \n",
    "ex = [1,2,3,4,5]\n",
    "print([i**2 for i in ex ])\n",
    "\n",
    "ex = [1,2,3,4,5]\n",
    "f = lambda x,y : x+y\n",
    "list(map(f,ex,ex))\n",
    "\n",
    "ex = [1,2,3,4,5]\n",
    "print([x+y for x,y in zip(ex,ex)])\n",
    "\n",
    "list(map(lambda x : x**2 if x % 2 == 0 else x , ex))\n",
    "[x **2 if x%2 == 0 else x for x in ex]"
   ]
  },
  {
   "cell_type": "code",
   "execution_count": 48,
   "id": "a3902ac0",
   "metadata": {},
   "outputs": [
    {
     "name": "stdout",
     "output_type": "stream",
     "text": [
      "15\n"
     ]
    }
   ],
   "source": [
    "#reduce 함수는 map()함수와 용법은 다르지만, 형제처럼 함께 사용하는 함수이다.\n",
    "#reduce()함수는 리스트와 같은 시퀀스 자료형에 차례대로 함수를 적용하여 모든 값을 통합하는 함수이다.\n",
    "from functools import reduce\n",
    "print(reduce(lambda x,y: x+y, [1,2,3,4,5]))"
   ]
  },
  {
   "cell_type": "code",
   "execution_count": 52,
   "id": "e7a1efc0",
   "metadata": {},
   "outputs": [
    {
     "name": "stdout",
     "output_type": "stream",
     "text": [
      "1 (2, 3, 4, 5, 6)\n",
      "<class 'tuple'>\n"
     ]
    }
   ],
   "source": [
    "#별표의 사용 (asterisk)는 곱하기 기호(*)를 뜻한다. 발표는 기본 연산자로, 단순 곱셈이나, 제곱 연산에\n",
    "#많이 사용됐다. 하지만 발표를 사용하는 특별한 경우가 있다. \n",
    "\n",
    "def asterisk_test(a, *args):\n",
    "    print(a,args)\n",
    "    print(type(args))\n",
    "asterisk_test(1,2,3,4,5,6)"
   ]
  },
  {
   "cell_type": "code",
   "execution_count": 51,
   "id": "ef7cefda",
   "metadata": {},
   "outputs": [
    {
     "name": "stdout",
     "output_type": "stream",
     "text": [
      "1 2 3 4 5 6\n",
      "<class 'tuple'>\n"
     ]
    }
   ],
   "source": [
    "#별표의 언패킹 기능\n",
    "\n",
    "def asterisk_test(a, args):\n",
    "    print(a, *args)\n",
    "    print(type(args))\n",
    "asterisk_test(1,(2,3,4,5,6))\n",
    "#기존 (2,3,4,5,6)이던 튜플 친구가 언패킹 되면서 출력된다.위 결과와 다른 결과를 보여줌"
   ]
  },
  {
   "cell_type": "code",
   "execution_count": 69,
   "id": "7f98cfeb",
   "metadata": {},
   "outputs": [
    {
     "name": "stdout",
     "output_type": "stream",
     "text": [
      "[1, 2, 3, 4, 5, 6]\n",
      "1 2 3 4 5 6\n",
      "<class 'list'>\n"
     ]
    }
   ],
   "source": [
    "data = [1,2,3,4,5,6]\n",
    "print(data) # 차이점을 보세요.\n",
    "print(*data) # 리스트를 패킹한것과 언패킹 한것.\n",
    "print(type(data))"
   ]
  },
  {
   "cell_type": "code",
   "execution_count": 65,
   "id": "6e1f2204",
   "metadata": {},
   "outputs": [
    {
     "name": "stdout",
     "output_type": "stream",
     "text": [
      "(1, 3, 5)\n",
      "<class 'tuple'>\n",
      "(2, 4, 6)\n",
      "<class 'tuple'>\n"
     ]
    }
   ],
   "source": [
    "for data in zip(*[[1,2],[3,4],[5,6]]):\n",
    "    print(data)\n",
    "    print(type(data))"
   ]
  },
  {
   "cell_type": "code",
   "execution_count": 67,
   "id": "a2ae9fb1",
   "metadata": {},
   "outputs": [
    {
     "name": "stdout",
     "output_type": "stream",
     "text": [
      "10 1 2 3\n"
     ]
    }
   ],
   "source": [
    "def asterisk_test(a,b,c,d):\n",
    "    print(a,b,c,d)\n",
    "data = {\"b\":1, \"c\":2 ,\"d\":3}\n",
    "asterisk_test(10, **data)"
   ]
  },
  {
   "cell_type": "markdown",
   "id": "ffa10d16",
   "metadata": {},
   "source": [
    "# 선형대수학\n",
    "### 벡터 와 행렬의 개념 : 벡터(vetor)\n",
    "고등학교 수학에서 어떤 정보를 표현할 때 크기와 방향을 모두 가지고 있는 것을 벡터라고 하고, 크기만 가지고 있는 것을 스칼라라고 하였다. 일반적으로 열 형태로 숫자를 표현하고 좌표평면에 나타낸다. 파이썬에서 리스트하고 비슷하다 여려 개의 데이터를 하나의 정보에 표현한다고 생각할 수 있다.\n",
    "### 벡터와 행렬의 개념  :  행렬(matrix)\n",
    "행렬은 원래 격자를 뜻하는데, 수학에서는 사각형으로 된 수의 배열을 지칭한다. 쉽게 말해, 1개 이상의 벡터 모임을 행렬이라고 생각하면 된다, 즉, 행렬에서 행 또는 열은 하나의 대상에 대한 정보를 표현한 것이며, 그 모음이 바로 행렬이다.\n"
   ]
  },
  {
   "cell_type": "code",
   "execution_count": null,
   "id": "cd54546c",
   "metadata": {},
   "outputs": [],
   "source": [
    "# 파이썬 스타일 코드로 표현한 벡터\n",
    "\n",
    "vector_a = [1,2,10] #리스트로 표현한 경우\n",
    "vector_b = (1,2,10) #튜플로 표현한 경우\n",
    "vector_c = {'x':1,'y':1, 'z':10} #딕셔너리로 표현한 경우"
   ]
  },
  {
   "cell_type": "code",
   "execution_count": 71,
   "id": "92e1254e",
   "metadata": {},
   "outputs": [
    {
     "name": "stdout",
     "output_type": "stream",
     "text": [
      "[7, 10]\n"
     ]
    }
   ],
   "source": [
    "#파이썬 스타일 코드로 표현한 벡터 : 벡터의 연산\n",
    "#벡터의 가장 기본적인 연산은 같은 위치에 있는 값끼리 연산하는 것이다.\n",
    "\n",
    "u = [2,2]\n",
    "v = [2,3]\n",
    "z = [3,5]\n",
    "\n",
    "result = [sum(t)for t in zip(u,v,z)]\n",
    "print(result)"
   ]
  },
  {
   "cell_type": "code",
   "execution_count": 75,
   "id": "ad926072",
   "metadata": {},
   "outputs": [
    {
     "name": "stdout",
     "output_type": "stream",
     "text": [
      "[7, 10]\n",
      "<class 'list'>\n"
     ]
    },
    {
     "data": {
      "text/plain": [
       "[7, 10]"
      ]
     },
     "execution_count": 75,
     "metadata": {},
     "output_type": "execute_result"
    }
   ],
   "source": [
    "#파이썬 스타일 코드로 표현한 벡터 : 별표를 사용한 함수화.\n",
    "def vector_addition(*args):\n",
    "    return[sum(t) for t in zip(*args)]\n",
    "print(vector_addition(u,v,z))\n",
    "print(type(vector_addition(u,v,z)))\n",
    "row_vectors = [[2,2],[2,3],[3,5]]\n",
    "vector_addition(*row_vectors)"
   ]
  },
  {
   "cell_type": "code",
   "execution_count": 76,
   "id": "18abc908",
   "metadata": {},
   "outputs": [
    {
     "ename": "SyntaxError",
     "evalue": "cannot assign to function call (136908918.py, line 4)",
     "output_type": "error",
     "traceback": [
      "\u001b[0;36m  File \u001b[0;32m\"/var/folders/gj/rk99c81n5jn0qjwq7ylttb3m0000gn/T/ipykernel_72658/136908918.py\"\u001b[0;36m, line \u001b[0;32m4\u001b[0m\n\u001b[0;31m    2([1,2,3]+[4,4,4]) = 2(5,6,7) = [10,12,14]\u001b[0m\n\u001b[0m    ^\u001b[0m\n\u001b[0;31mSyntaxError\u001b[0m\u001b[0;31m:\u001b[0m cannot assign to function call\n"
     ]
    }
   ],
   "source": [
    "#파이썬 스타일 코드로 표현한 벡터 : 스칼라-벡터 연산\n",
    "#간단히 숫자형 변수라고 할 수 있는 스칼라와 벡터는 곱셈 연산이 가능하며, 분배법칙을 적용할 수 있다.\n",
    "\n",
    "u = [1,2,3]\n",
    "v = [4,4,4]\n",
    "alpha = 2\n",
    "\n",
    "result = [alpha*sum(t) for t in zip(u,v)]\n",
    "result"
   ]
  },
  {
   "cell_type": "code",
   "execution_count": null,
   "id": "50727237",
   "metadata": {},
   "outputs": [],
   "source": [
    "#파이썬 스타일 코드로 표현한 행렬\n",
    "#행렬도 벡터와 마찬가지로 리스트, 튜플, 딕셔너리 등을 사용하여 파이썬 스타일 코드로 표현할 수 있다.\n",
    "matrix_a = [[3,6],[4,5]] #리스트로 표현한 경우\n",
    "matrix_b = [(3,6),(4,5)] #튜플로 표현한 경우\n",
    "matrix_c = {(0,0):3 , (0,1):6, (1,0): 4 (1,1):5} #딕셔너리로 표현한 경우"
   ]
  },
  {
   "cell_type": "code",
   "execution_count": 78,
   "id": "f37b9e06",
   "metadata": {},
   "outputs": [
    {
     "name": "stdout",
     "output_type": "stream",
     "text": [
      "[[8, 14], [10, 12]]\n"
     ]
    }
   ],
   "source": [
    "matrix_a = [[3,6],[4,5]]\n",
    "matrix_b = [[5,8],[6,7]]\n",
    "result = [[sum(row) for row in zip(*t)] for t in zip(matrix_a, matrix_b)]\n",
    "print(result)"
   ]
  },
  {
   "cell_type": "code",
   "execution_count": 87,
   "id": "01a8a863",
   "metadata": {},
   "outputs": [
    {
     "data": {
      "text/plain": [
       "[[True, False], [True, False], [True, False], [True, False]]"
      ]
     },
     "execution_count": 87,
     "metadata": {},
     "output_type": "execute_result"
    }
   ],
   "source": [
    "#파이썬 스타일 코드로 표현한 행렬 :  행렬의 동치\n",
    "#행렬의 동치는 2개의 행렬이 서로 같은지를 나타내는 표현으로, 만약 행렬이 같다면 2개의\n",
    "#행렬이 동치라고 말한다.\n",
    "#두 행렬이 동치임을 확인하는 코드\n",
    "matrix_a = [[1,1],[1,1]]\n",
    "matrix_c = [[1,1],[1,1]]\n",
    "all([row [0] == value for t in zip(matrix_a, matrix_c) \n",
    "     for row in zip(*t)for value in row])\n",
    "[[row[0] == value for value in row] for t in zip(matrix_a, matrix_b) for row in zip(*t)]"
   ]
  },
  {
   "cell_type": "markdown",
   "id": "6dffb1eb",
   "metadata": {},
   "source": [
    "all()함수와 any() 함수는 리스트형과 튜플형에서 내부 값이 and 조건이나 or 조건으로 참인지 거짓인지 반환하는 함수이다.\n",
    "\n",
    "any([false,false,false]) -> false\n",
    "any([false,true,false]) -> true\n",
    "all([false,true,true]) -> false\n",
    "all([true,true,true]) -> true"
   ]
  },
  {
   "cell_type": "markdown",
   "id": "d8bb4cf1",
   "metadata": {},
   "source": [
    "**파이썬 스타일 코드로 표현한 행렬 : 전치행렬 **\n",
    " - 전치행렬을 구현하기 위해 행과 열의 값을 변경해야 한다. 구현은 간단하다. 기본 행렬 리스트에서 별표와 zip()함수로 각 행의 같은 위치의 인덱스값을 추출한 후 , 이 값으로 리스트를 새롭게 구성하면 된다.\n",
    " "
   ]
  },
  {
   "cell_type": "code",
   "execution_count": 88,
   "id": "fc8c1921",
   "metadata": {},
   "outputs": [
    {
     "data": {
      "text/plain": [
       "[[1, 4], [2, 5], [3, 6]]"
      ]
     },
     "execution_count": 88,
     "metadata": {},
     "output_type": "execute_result"
    }
   ],
   "source": [
    "matrix_a = [[1,2,3],[4,5,6]]\n",
    "result = [[element for element in t] for t in zip(*matrix_a)]\n",
    "result"
   ]
  },
  {
   "cell_type": "markdown",
   "id": "c2616841",
   "metadata": {},
   "source": [
    "**파이썬 스타일 코드로 표현한 행렬 :  행렬의 곱셈**\n",
    "- 행렬의 곱셈은 앞 행렬의 열과 뒤 행렬의 행을 선형 결합하면 된다."
   ]
  },
  {
   "cell_type": "code",
   "execution_count": null,
   "id": "a703dfbb",
   "metadata": {},
   "outputs": [],
   "source": [
    "matrix_a = [[1,1,2],[2,1,1]]\n",
    "matrix_b = [[1,1],[2,1],[1,3]]\n",
    "result = [[sum(a*b for a,b in zip(row_a, column_b)) for column_b in zip(*matrix_b)\n",
    "          for row_a in matrix_a]]"
   ]
  }
 ],
 "metadata": {
  "kernelspec": {
   "display_name": "Python 3 (ipykernel)",
   "language": "python",
   "name": "python3"
  },
  "language_info": {
   "codemirror_mode": {
    "name": "ipython",
    "version": 3
   },
   "file_extension": ".py",
   "mimetype": "text/x-python",
   "name": "python",
   "nbconvert_exporter": "python",
   "pygments_lexer": "ipython3",
   "version": "3.9.13"
  }
 },
 "nbformat": 4,
 "nbformat_minor": 5
}
