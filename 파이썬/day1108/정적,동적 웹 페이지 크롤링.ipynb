{
 "cells": [
  {
   "cell_type": "code",
   "execution_count": null,
   "id": "505d1583",
   "metadata": {},
   "outputs": [],
   "source": [
    "# 정적 웹 페이지 크롤링 : hollys 사이트"
   ]
  },
  {
   "cell_type": "code",
   "execution_count": 18,
   "id": "8a0a6590",
   "metadata": {},
   "outputs": [
    {
     "name": "stdout",
     "output_type": "stream",
     "text": [
      "Hollys store crawling >>>>>>>>>>>>\n"
     ]
    }
   ],
   "source": [
    "import urllib.request\n",
    "from bs4 import BeautifulSoup as bs\n",
    "import pandas as pd\n",
    "#prettify() 를 사용하면 전체 내용을 확인할 수 있다.\n",
    "\n",
    "def hollys_store(result):\n",
    "    for page in range(1, 54):\n",
    "        Hollys_url = \"https://www.hollys.co.kr/store/korea/korStore2.do?pageNo=%d&sido=&gugun=&store=\"% page\n",
    "        \n",
    "        html = urllib.request.urlopen(Hollys_url)\n",
    "        soupHollys = bs(html , 'html.parser')\n",
    "        \n",
    "        tag_tbody = soupHollys.find(\"tbody\")\n",
    "        for store in tag_tbody.find_all('tr'):\n",
    "            store_td = store.find_all('td')\n",
    "            s_name = store_td[1].text\n",
    "            s_sido = store_td[0].string\n",
    "            s_addr = store_td[3].string\n",
    "            s_phone = store_td[5].string\n",
    "            \n",
    "            result.append([s_name, s_sido , s_addr, s_phone])\n",
    "            \n",
    "    return\n",
    "def main():\n",
    "    result = []\n",
    "    print(\"Hollys store crawling >>>>>>>>>>>>\")\n",
    "    hollys_store(result)\n",
    "    #여기서 encoding할 때 cp949가 아닌 utf-8로 해줄 것.\n",
    "    hollys_df = pd.DataFrame(result, columns = ('store', 'si-do-gu', 'address', 'phone'))\n",
    "    hollys_df.to_csv('hollys.csv', encoding = 'utf-8' , mode = 'w', index = True)\n",
    "if __name__ == '__main__':\n",
    "    main()"
   ]
  },
  {
   "cell_type": "code",
   "execution_count": null,
   "id": "7f7d825a",
   "metadata": {},
   "outputs": [],
   "source": [
    "# 커비빈 사이트"
   ]
  },
  {
   "cell_type": "code",
   "execution_count": 27,
   "id": "c0492744",
   "metadata": {},
   "outputs": [],
   "source": [
    "from bs4 import BeautifulSoup as bs\n",
    "from selenium import webdriver\n",
    "import time\n",
    "import pandas as pd\n",
    "\n",
    "def CoffeeBean_store(result):\n",
    "    CoffeeBean_URL = \"https://www.coffeebeankorea.com/store/store.asp\"\n",
    "\n",
    "    wd = webdriver.Chrome('chromedriver')\n",
    "\n",
    "    for i in range(1, 385):\n",
    "        wd.get(CoffeeBean_URL)\n",
    "        time.sleep(1) #웹페이지 연결할 동안 1초 대기\n",
    "    \n",
    "        try:\n",
    "            wd.excute_script(\"storePop2(%d)\" % i)\n",
    "            time.sleep(1)\n",
    "            html = wd.page_source\n",
    "        \n",
    "            soupCB = bs(html, 'html.parser')\n",
    "        \n",
    "            store_name_h2 = soupCB.select(\"div.store_txt > h2\")\n",
    "            store_name = store_name_h2[0].string\n",
    "        \n",
    "            store_info = soupCB.select(\"div.store_txt > table > tbody > tr > td\")\n",
    "            store_address_list = list(store_info[2])\n",
    "            store_address = store_address_list[0]\n",
    "            store_phone = store_info[3].text\n",
    "        \n",
    "            result.append([store_name, store_address, store_phone])\n",
    "        except:\n",
    "            continue\n",
    "        \n",
    "    return"
   ]
  },
  {
   "cell_type": "code",
   "execution_count": 37,
   "id": "ec3cd97b",
   "metadata": {},
   "outputs": [
    {
     "name": "stdout",
     "output_type": "stream",
     "text": [
      "CoffeeBean crawling >>>>>>>>>>>>>>>>\n",
      "학동역 DT점\n",
      "차병원점\n",
      ">>>>\n"
     ]
    }
   ],
   "source": [
    "from selenium import webdriver\n",
    "import time\n",
    "import pandas as pd\n",
    "from bs4 import BeautifulSoup\n",
    "\n",
    "def CoffeeBean_store(result):\n",
    "    CoffeeBean_URL = \"https://www.coffeebeankorea.com/store/store.asp\"\n",
    "    wd = webdriver.Chrome('chromedriver')\n",
    "    \n",
    "    for i in range(1, 4):\n",
    "        wd.get(CoffeeBean_URL)\n",
    "        time.sleep(1) # 웹페이지 연결할 동안 1초 대기\n",
    "        \n",
    "        try:\n",
    "            wd.execute_script(\"storePop2(%d)\" % i)\n",
    "            time.sleep(1)\n",
    "            html = wd.page_source\n",
    "            \n",
    "            soupCB = BeautifulSoup(html, 'html.parser')\n",
    "            store_name_h2 = soupCB.select(\"div.store_txt > h2\")\n",
    "            store_name = store_name_h2[0].string\n",
    "            print(store_name)\n",
    "            \n",
    "            store_info = soupCB.select(\"div.store_txt > table > tbody > tr > td\")\n",
    "            store_address_list = list(store_info[2])\n",
    "            store_address = store_address_list[0]\n",
    "            store_phone = store_info[3].text\n",
    "            \n",
    "            result.append([store_name, store_address,store_phone])\n",
    "        except:\n",
    "            continue\n",
    "    return\n",
    "\n",
    "def main():\n",
    "    result = []\n",
    "    print('CoffeeBean crawling >>>>>>>>>>>>>>>>')\n",
    "    \n",
    "    CoffeeBean_store(result)\n",
    "    print('>>>>')\n",
    "    \n",
    "    cb_df = pd.DataFrame(result, columns=('store', 'address', 'phone'))\n",
    "    cb_df.to_csv('CoffeeBean_store.csv', encoding = 'utf-8', mode = 'w', index = True)\n",
    "if __name__ == '__main__':\n",
    "    main()"
   ]
  },
  {
   "cell_type": "code",
   "execution_count": 46,
   "id": "12029fda",
   "metadata": {},
   "outputs": [
    {
     "name": "stderr",
     "output_type": "stream",
     "text": [
      "/var/folders/gj/rk99c81n5jn0qjwq7ylttb3m0000gn/T/ipykernel_597/2338559289.py:8: DeprecationWarning: executable_path has been deprecated, please pass in a Service object\n",
      "  driver = webdriver.Chrome('chromedriver.exe', chrome_options=options)\n",
      "/var/folders/gj/rk99c81n5jn0qjwq7ylttb3m0000gn/T/ipykernel_597/2338559289.py:8: DeprecationWarning: use options instead of chrome_options\n",
      "  driver = webdriver.Chrome('chromedriver.exe', chrome_options=options)\n"
     ]
    }
   ],
   "source": [
    "from selenium import webdriver\n",
    "from selenium.webdriver.common.by import By\n",
    "import time\n",
    "\n",
    "\n",
    "options = webdriver.ChromeOptions()\n",
    "options.add_argument(\"--start-maximized\")\n",
    "driver = webdriver.Chrome('chromedriver.exe', chrome_options=options)\n",
    "\n",
    "driver.get(\"https://www.kebhana.com/cont/mall/mall15/mall1503/index.jsp\")\n",
    "time.sleep(2)\n",
    "\n",
    "driver.switch_to.frame(\"bankIframe\")\n",
    "\n",
    "driver.find_element(By.XPATH,'//*[@id=\"inqFrm\"]/table/tbody/tr[1]/td/span/p/label[3]/span').click()\n",
    "\n",
    "driver.find_element(By.ID, 'tmpInqStrDt_p').clear()\n",
    "start = '20221010'\n",
    "driver.find_element(By.ID, 'tmpInqStrDt_p').send_keys(start)\n",
    "\n",
    "driver.find_element(By.ID, 'tmpInqEndDt_p').clear()\n",
    "start = '20221107'\n",
    "driver.find_element(By.ID, 'tmpInqEndDt_p').send_keys(start)\n",
    "\n",
    "currency = \"EUR:유로(유럽연합)\"\n",
    "driver.find_element(By.ID, 'curCd').send_keys(currency)\n",
    "\n",
    "driver.find_element(By.XPATH,'//*[@id=\"inqFrm\"]/table/tbody/tr[6]/td/span/p/label[2]').click()\n",
    "\n",
    "time.sleep(1)\n",
    "driver.find_element(By.XPATH, '//*[@id=\"HANA_CONTENTS_DIV\"]/div[2]/a').click()\n",
    "\n",
    "time.sleep(1)\n",
    "driver.find_element(By.XPATH, '//*[@id=\"searchContentDiv\"]/div[1]/a[2]/span').click()\n",
    "\n"
   ]
  },
  {
   "cell_type": "code",
   "execution_count": null,
   "id": "25564946",
   "metadata": {},
   "outputs": [],
   "source": []
  }
 ],
 "metadata": {
  "kernelspec": {
   "display_name": "Python 3 (ipykernel)",
   "language": "python",
   "name": "python3"
  },
  "language_info": {
   "codemirror_mode": {
    "name": "ipython",
    "version": 3
   },
   "file_extension": ".py",
   "mimetype": "text/x-python",
   "name": "python",
   "nbconvert_exporter": "python",
   "pygments_lexer": "ipython3",
   "version": "3.9.13"
  }
 },
 "nbformat": 4,
 "nbformat_minor": 5
}
