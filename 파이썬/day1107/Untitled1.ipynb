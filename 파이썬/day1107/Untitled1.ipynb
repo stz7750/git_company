{
 "cells": [
  {
   "cell_type": "code",
   "execution_count": 11,
   "id": "5c94d96e",
   "metadata": {},
   "outputs": [
    {
     "ename": "NameError",
     "evalue": "name 'serviceKey' is not defined",
     "output_type": "error",
     "traceback": [
      "\u001b[0;31m---------------------------------------------------------------------------\u001b[0m",
      "\u001b[0;31mNameError\u001b[0m                                 Traceback (most recent call last)",
      "\u001b[0;32m/var/folders/gj/rk99c81n5jn0qjwq7ylttb3m0000gn/T/ipykernel_98290/1263295054.py\u001b[0m in \u001b[0;36m<module>\u001b[0;34m\u001b[0m\n\u001b[1;32m      4\u001b[0m \u001b[0;34m\u001b[0m\u001b[0m\n\u001b[1;32m      5\u001b[0m \u001b[0murl\u001b[0m \u001b[0;34m=\u001b[0m \u001b[0;34m'http://openapi.tour.go.kr/openapi/service/EdrcntTourismStatsService/getEdrcntTourismStatsList'\u001b[0m\u001b[0;34m\u001b[0m\u001b[0;34m\u001b[0m\u001b[0m\n\u001b[0;32m----> 6\u001b[0;31m \u001b[0mparams\u001b[0m \u001b[0;34m=\u001b[0m\u001b[0;34m{\u001b[0m\u001b[0;34m'serviceKey'\u001b[0m \u001b[0;34m:\u001b[0m \u001b[0mserviceKey\u001b[0m\u001b[0;34m,\u001b[0m \u001b[0;34m'YM'\u001b[0m \u001b[0;34m:\u001b[0m \u001b[0;34m'201201'\u001b[0m\u001b[0;34m,\u001b[0m \u001b[0;34m'NAT_CD'\u001b[0m \u001b[0;34m:\u001b[0m \u001b[0;34m'112'\u001b[0m\u001b[0;34m,\u001b[0m \u001b[0;34m'ED_CD'\u001b[0m \u001b[0;34m:\u001b[0m \u001b[0;34m'E'\u001b[0m \u001b[0;34m}\u001b[0m\u001b[0;34m\u001b[0m\u001b[0;34m\u001b[0m\u001b[0m\n\u001b[0m\u001b[1;32m      7\u001b[0m \u001b[0;34m\u001b[0m\u001b[0m\n\u001b[1;32m      8\u001b[0m \u001b[0mresponse\u001b[0m \u001b[0;34m=\u001b[0m \u001b[0mrequests\u001b[0m\u001b[0;34m.\u001b[0m\u001b[0mget\u001b[0m\u001b[0;34m(\u001b[0m\u001b[0murl\u001b[0m\u001b[0;34m,\u001b[0m \u001b[0mparams\u001b[0m\u001b[0;34m=\u001b[0m\u001b[0mparams\u001b[0m\u001b[0;34m)\u001b[0m\u001b[0;34m\u001b[0m\u001b[0;34m\u001b[0m\u001b[0m\n",
      "\u001b[0;31mNameError\u001b[0m: name 'serviceKey' is not defined"
     ]
    }
   ],
   "source": [
    "import requests\n",
    "\n",
    "ServiceKey = \"RQ6yd8pwrlsAAJVnWM/WNLpfYmOgnBdajYK1yLXamt4J2JkmIEe2w13K4M4r/2IuiRKZvppl9dENoMw9YXsv7w==\"\n",
    "\n",
    "url = 'http://openapi.tour.go.kr/openapi/service/EdrcntTourismStatsService/getEdrcntTourismStatsList'\n",
    "params ={'serviceKey' : serviceKey, 'YM' : '201201', 'NAT_CD' : '112', 'ED_CD' : 'E' }\n",
    "\n",
    "response = requests.get(url, params=params)\n",
    "print(response.content)"
   ]
  },
  {
   "cell_type": "code",
   "execution_count": null,
   "id": "9e1446dd",
   "metadata": {},
   "outputs": [],
   "source": []
  }
 ],
 "metadata": {
  "kernelspec": {
   "display_name": "Python 3 (ipykernel)",
   "language": "python",
   "name": "python3"
  },
  "language_info": {
   "codemirror_mode": {
    "name": "ipython",
    "version": 3
   },
   "file_extension": ".py",
   "mimetype": "text/x-python",
   "name": "python",
   "nbconvert_exporter": "python",
   "pygments_lexer": "ipython3",
   "version": "3.9.13"
  }
 },
 "nbformat": 4,
 "nbformat_minor": 5
}
