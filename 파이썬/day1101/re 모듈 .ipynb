{
 "cells": [
  {
   "cell_type": "code",
   "execution_count": 1,
   "id": "ad923774",
   "metadata": {},
   "outputs": [
    {
     "data": {
      "text/plain": [
       "'life'"
      ]
     },
     "execution_count": 1,
     "metadata": {},
     "output_type": "execute_result"
    }
   ],
   "source": [
    "import re\n",
    "\n",
    "pattern = r'life'\n",
    "script = 'life'\n",
    "re.match(pattern, script)\n",
    "re.match(pattern, script).group()"
   ]
  },
  {
   "cell_type": "code",
   "execution_count": 2,
   "id": "a1aaed7a",
   "metadata": {},
   "outputs": [
    {
     "data": {
      "text/plain": [
       "'life'"
      ]
     },
     "execution_count": 2,
     "metadata": {},
     "output_type": "execute_result"
    }
   ],
   "source": [
    "re.match(pattern, 'life animal').group()"
   ]
  },
  {
   "cell_type": "code",
   "execution_count": 9,
   "id": "bb1b1582",
   "metadata": {},
   "outputs": [
    {
     "ename": "AttributeError",
     "evalue": "'NoneType' object has no attribute 'group'",
     "output_type": "error",
     "traceback": [
      "\u001b[0;31m---------------------------------------------------------------------------\u001b[0m",
      "\u001b[0;31mAttributeError\u001b[0m                            Traceback (most recent call last)",
      "\u001b[0;32m/var/folders/gj/rk99c81n5jn0qjwq7ylttb3m0000gn/T/ipykernel_79047/2855687172.py\u001b[0m in \u001b[0;36m<module>\u001b[0;34m\u001b[0m\n\u001b[1;32m      7\u001b[0m \u001b[0mpattern\u001b[0m \u001b[0;34m=\u001b[0m \u001b[0;34m'is'\u001b[0m\u001b[0;34m\u001b[0m\u001b[0;34m\u001b[0m\u001b[0m\n\u001b[1;32m      8\u001b[0m \u001b[0;34m\u001b[0m\u001b[0m\n\u001b[0;32m----> 9\u001b[0;31m \u001b[0mre\u001b[0m\u001b[0;34m.\u001b[0m\u001b[0msearch\u001b[0m\u001b[0;34m(\u001b[0m\u001b[0mpattern\u001b[0m\u001b[0;34m,\u001b[0m \u001b[0mscript\u001b[0m\u001b[0;34m)\u001b[0m\u001b[0;34m.\u001b[0m\u001b[0mgroup\u001b[0m\u001b[0;34m(\u001b[0m\u001b[0;34m)\u001b[0m\u001b[0;34m\u001b[0m\u001b[0;34m\u001b[0m\u001b[0m\n\u001b[0m",
      "\u001b[0;31mAttributeError\u001b[0m: 'NoneType' object has no attribute 'group'"
     ]
    }
   ],
   "source": [
    "#search메서드 : 문자열 전체에서 패턴 찾기\n",
    "\n",
    "#re.search(패턴, 문자열)\n",
    "\n",
    "sciprt = 'life is cool'\n",
    "\n",
    "pattern = 'is'\n",
    "\n",
    "re.search(pattern, script).group()"
   ]
  },
  {
   "cell_type": "code",
   "execution_count": 10,
   "id": "6744c6a2",
   "metadata": {},
   "outputs": [
    {
     "data": {
      "text/plain": [
       "['91년에 태어났습니다. 97년에 imf가 있었습니다. 지금은 2020년']"
      ]
     },
     "execution_count": 10,
     "metadata": {},
     "output_type": "execute_result"
    }
   ],
   "source": [
    "#findall메소드\n",
    "#패턴을 모두 찾아 리스트로 변환하기\n",
    "\n",
    "# re.findall (패턴, 문자열)\n",
    "\n",
    "example1 = '저는 91년에 태어났습니다. 97년에 imf가 있었습니다. 지금은 2020년 입니다.'\n",
    "\n",
    "re.findall(r'\\d.+년',example1)"
   ]
  },
  {
   "cell_type": "code",
   "execution_count": 12,
   "id": "ce12ad3a",
   "metadata": {},
   "outputs": [
    {
     "name": "stdout",
     "output_type": "stream",
     "text": [
      "['221101', '201031']\n"
     ]
    }
   ],
   "source": [
    "number = \"My Number is 221101-1****** and yours is 201031-1******\"\n",
    "\n",
    "num = re.findall(r'\\d{6}',number)\n",
    "print(num)"
   ]
  },
  {
   "cell_type": "code",
   "execution_count": 14,
   "id": "fc90cc2f",
   "metadata": {},
   "outputs": [
    {
     "data": {
      "text/plain": [
       "['02년', '20002년', '2022년']"
      ]
     },
     "execution_count": 14,
     "metadata": {},
     "output_type": "execute_result"
    }
   ],
   "source": [
    "example = '저는 02년에 태어났습니다. 20002년에 월드컵이 있었습니다. 지금은 2022년입니다.'\n",
    "\n",
    "re.findall(r'\\d+년',example)\n",
    "\n"
   ]
  },
  {
   "cell_type": "code",
   "execution_count": 16,
   "id": "8a3962c1",
   "metadata": {},
   "outputs": [
    {
     "data": {
      "text/plain": [
       "['i love lovely dog , really',\n",
       " ' i am not telling a lie',\n",
       " ' what a pretty dog',\n",
       " '']"
      ]
     },
     "execution_count": 16,
     "metadata": {},
     "output_type": "execute_result"
    }
   ],
   "source": [
    "#split메소드 : 문장 나누는 패턴 만들기\n",
    "s = 'i love lovely dog , really. i am not telling a lie. what a pretty dog! i love this dog'\n",
    "re.split(r'[.!]',s) # !으로 문장을 나눴다."
   ]
  },
  {
   "cell_type": "code",
   "execution_count": 19,
   "id": "d06110e1",
   "metadata": {},
   "outputs": [
    {
     "name": "stdout",
     "output_type": "stream",
     "text": [
      "['a', '3']\n",
      "['b', '4']\n",
      "['c', '5']\n"
     ]
    }
   ],
   "source": [
    "data = 'a:3;b:4;c:5'\n",
    "for i in re.split(r'[.;]',data):\n",
    "    print(re.split(\":\", i))"
   ]
  },
  {
   "cell_type": "code",
   "execution_count": 31,
   "id": "20c337a7",
   "metadata": {},
   "outputs": [
    {
     "name": "stdout",
     "output_type": "stream",
     "text": [
      "i'm home now. \n",
      "\n",
      "\n",
      " i am with my cat.\n",
      "\n",
      "\n",
      "['lovely', 'really']\n"
     ]
    }
   ],
   "source": [
    "#sub 메소드 : 문자열 바꾸기\n",
    "#문자를 대처하는 메소드\n",
    "\n",
    "#re.sub(찾을 패턴, 대체할 문자, 찾을 문자열)\n",
    "\n",
    "s1 = 'i love a lovely dog, really. i am not telling a lie. what a pretty dog! i love this dog '\n",
    "\n",
    "re.sub('dog', 'cat', s)\n",
    "\n",
    "word = \"i'm home now. \\n\\n\\n i am with my cat.\\n\\n\"\n",
    "print(word)\n",
    "# 공백을 지워보자\n",
    "re.sub('\\n','',word)\n",
    "#~~ly로 끝나는 단어들을 추출하자.\n",
    "\n",
    "m = re.findall(r'\\w+ly', s1)\n",
    "print(m)"
   ]
  },
  {
   "cell_type": "markdown",
   "id": "94672bce",
   "metadata": {},
   "source": [
    "# 드라마 대본 텍스트 파일 가공하기\n",
    "\n",
    "**드라마 대본 파일 준비하기**\n",
    "- 프렌즈 시즈 1 에피소드 1화 대본 텍스트 전체 준비\n",
    "- 대본 텍스트 전체를 friends101.txt로 저장\n",
    "- 특정 등장인물의 대사만 모으기\n",
    "- 특정인물 리스트 만들기\n",
    "- 지문만 따로 모으기\n",
    "- 특정 단어가 들어 있는 대사만 모으기"
   ]
  },
  {
   "cell_type": "code",
   "execution_count": 7,
   "id": "3e6e6643",
   "metadata": {},
   "outputs": [
    {
     "name": "stdout",
     "output_type": "stream",
     "text": [
      "The One Where Monica Gets a New Roommate (The Pilot-The Uncut Version)\n",
      "Written by: Marta Kauffman & \n",
      "[\"Monica: There's nothing to tell! He's just some guy I work with!\", \"Monica: Okay, everybody relax. This is not even a date. It's just two people going out to dinner and- not having sex.\", \"Monica: And they weren't looking at you before?!\", 'Monica: Are you okay, sweetie?']\n"
     ]
    }
   ],
   "source": [
    "import os,re,codecs\n",
    "os.chdir(r'/Users/gimtaehun/test')\n",
    "f = open('friends101.txt' , 'r')\n",
    "script101 = f.read()\n",
    "print(script101[:100])\n",
    "m_lines = re.findall(r'Monica:.+', script101)\n",
    "print(m_lines[:4])"
   ]
  },
  {
   "cell_type": "code",
   "execution_count": 7,
   "id": "e43f607a",
   "metadata": {},
   "outputs": [],
   "source": [
    "f = open('monica.txt','w')\n",
    "m = ''\n",
    "for i in m_lines[:3]:\n",
    "    m += i + \"\\n\"\n",
    "f.write(m)\n",
    "f.close()"
   ]
  },
  {
   "cell_type": "code",
   "execution_count": 43,
   "id": "7246a6d3",
   "metadata": {},
   "outputs": [
    {
     "name": "stdout",
     "output_type": "stream",
     "text": [
      "{'Ross:', 'Customer:', 'Monica:', 'Scene:', 'All:', 'Joey:', 'Frannie:', 'Waitress:', 'Chandler:', 'Rachel:', 'Paul:', 'Phoebe:'}\n"
     ]
    }
   ],
   "source": [
    "print(set(re.findall(r'[A-Z][a-z]+:',script101)))"
   ]
  },
  {
   "cell_type": "code",
   "execution_count": 47,
   "id": "de462961",
   "metadata": {},
   "outputs": [
    {
     "name": "stdout",
     "output_type": "stream",
     "text": [
      "['Ross', 'Customer', 'Monica', 'Scene', 'All', 'Joey', 'Frannie', 'Waitress', 'Chandler', 'Rachel', 'Paul', 'Phoebe']\n"
     ]
    }
   ],
   "source": [
    "c = [x[:-1] for x in list(set(re.findall(r'[A-Z][a-z]+:',script101)))]\n",
    "print(c)"
   ]
  },
  {
   "cell_type": "code",
   "execution_count": 13,
   "id": "9c61bee4",
   "metadata": {},
   "outputs": [
    {
     "data": {
      "text/plain": [
       "['(The Pilot-The Uncut Version)',\n",
       " '(Note: The previously unseen parts of this episode are shown in blue text.)',\n",
       " '(They all stare, bemused.)',\n",
       " '(mortified)',\n",
       " '(explaining to the others)']"
      ]
     },
     "execution_count": 13,
     "metadata": {},
     "output_type": "execute_result"
    }
   ],
   "source": [
    "import re\n",
    "re.findall(r'\\([A-Za-z].+[a-z].\\)',script101)[:5]"
   ]
  },
  {
   "cell_type": "code",
   "execution_count": 20,
   "id": "36bc213e",
   "metadata": {},
   "outputs": [
    {
     "name": "stdout",
     "output_type": "stream",
     "text": [
      "['The One Where Monica Gets a New Roommate (The Pilot-The Uncut Version)\\n', 'Written by: Marta Kauffman & David Crane\\n', 'Transcribed by: guineapig\\n']\n"
     ]
    }
   ],
   "source": [
    "with open('friends101.txt' , 'r', encoding = 'utf-8') as f:\n",
    "    sentences = f.readlines()\n",
    "print(sentences[:3])"
   ]
  },
  {
   "cell_type": "code",
   "execution_count": 23,
   "id": "f37d0481",
   "metadata": {},
   "outputs": [
    {
     "name": "stdout",
     "output_type": "stream",
     "text": [
      "Monica: There's nothing to tell! He's just some guy I work with!\n",
      "\n",
      "Joey: C'mon, you're going out with the guy! There's gotta be something wrong with him!\n",
      "\n",
      "Chandler: All right Joey, be nice.  So does he have a hump? A hump and a hairpiece?\n",
      "\n",
      "Phoebe: Wait, does he eat chalk?\n",
      "\n",
      "Phoebe: Just, 'cause, I don't want her to go through what I went through with Carl- oh!\n",
      "\n",
      "Monica: Okay, everybody relax. This is not even a date. It's just two people going out to dinner and- not having sex.\n",
      "\n",
      "Chandler: Sounds like a date to me.\n",
      "\n",
      "Chandler: Alright, so I'm back in high school, I'm standing in the middle of the cafeteria, and I realize I am totally naked.\n",
      "\n",
      "All: Oh, yeah. Had that dream.\n",
      "\n"
     ]
    }
   ],
   "source": [
    "for i in sentences[:30]:\n",
    "    if re.match(r'[A-Z][a-z]+:', i):\n",
    "        print(i)"
   ]
  },
  {
   "cell_type": "code",
   "execution_count": 43,
   "id": "23f2be18",
   "metadata": {},
   "outputs": [
    {
     "name": "stdout",
     "output_type": "stream",
     "text": [
      "[\"Rachel: Ooh, I was kinda hoping that wouldn't be an issue... [Scene: Monica's Apartment, everyone is there and watching a Spanish Soap on TV and are trying to figure out what is going on.]\\n\", \"Chandler: I would have to say that is an 'L'-shaped bracket.\\n\", 'Monica: Why?! Why? Why, why would anybody do something like that?\\n', 'Rachel: You would be too if you found John and David boots on sale, fifty percent off!\\n']\n"
     ]
    }
   ],
   "source": [
    "lines = [i for i in sentences if re.match(r'[A-Z][a-z]+:', i) and re.search('would', i)]\n",
    "print(lines[:4])"
   ]
  },
  {
   "cell_type": "code",
   "execution_count": 47,
   "id": "73e24ae6",
   "metadata": {},
   "outputs": [
    {
     "ename": "SyntaxError",
     "evalue": "invalid syntax (2577191453.py, line 1)",
     "output_type": "error",
     "traceback": [
      "\u001b[0;36m  File \u001b[0;32m\"/var/folders/gj/rk99c81n5jn0qjwq7ylttb3m0000gn/T/ipykernel_81179/2577191453.py\"\u001b[0;36m, line \u001b[0;32m1\u001b[0m\n\u001b[0;31m    newf = open(\"would.txt\", 'w') as n\u001b[0m\n\u001b[0m                                  ^\u001b[0m\n\u001b[0;31mSyntaxError\u001b[0m\u001b[0;31m:\u001b[0m invalid syntax\n"
     ]
    }
   ],
   "source": [
    "newf = open(\"would.txt\", 'w')\n",
    "newf.writelines(lines)\n",
    "newf.close()"
   ]
  },
  {
   "cell_type": "code",
   "execution_count": 61,
   "id": "fc0eb372",
   "metadata": {},
   "outputs": [
    {
     "name": "stdout",
     "output_type": "stream",
     "text": [
      "['greatiking@naver.com', 'travel@daum.net', 'apple@gamil.com', 'life@abc.co.kr']\n"
     ]
    }
   ],
   "source": [
    "a = '''\n",
    "제 이메일 주소는 greatiking@naver.com 입니다.오늘 저는 travel@daum.net라는 주소로 메일을 보내려고 합니다.\n",
    "저는 apple@gamil.com과 life@abc.co.kr메일도 사용하고 있습니다. \n",
    "'''\n",
    "#해당 텍스트에서 메일 주소만 추출해 리스트로 반환해주세요.\n",
    "\n",
    "e =  re.findall(r'[a-z]+@[a-z.]+',a) # 앞에 이메일 소문자 @ 고정값 뒤에 소문자 \n",
    "print(e)\n"
   ]
  },
  {
   "cell_type": "code",
   "execution_count": 5,
   "id": "9c04c3a7",
   "metadata": {},
   "outputs": [
    {
     "ename": "FileNotFoundError",
     "evalue": "[Errno 2] No such file or directory: 'iseoulu.csv'",
     "output_type": "error",
     "traceback": [
      "\u001b[0;31m---------------------------------------------------------------------------\u001b[0m",
      "\u001b[0;31mFileNotFoundError\u001b[0m                         Traceback (most recent call last)",
      "\u001b[0;32m/var/folders/gj/rk99c81n5jn0qjwq7ylttb3m0000gn/T/ipykernel_82550/1115034357.py\u001b[0m in \u001b[0;36m<module>\u001b[0;34m\u001b[0m\n\u001b[1;32m      1\u001b[0m \u001b[0;32mimport\u001b[0m \u001b[0musecsv\u001b[0m\u001b[0;34m\u001b[0m\u001b[0;34m\u001b[0m\u001b[0m\n\u001b[1;32m      2\u001b[0m \u001b[0;34m\u001b[0m\u001b[0m\n\u001b[0;32m----> 3\u001b[0;31m \u001b[0mtotal\u001b[0m \u001b[0;34m=\u001b[0m \u001b[0musecsv\u001b[0m\u001b[0;34m.\u001b[0m\u001b[0mopencsv\u001b[0m\u001b[0;34m(\u001b[0m\u001b[0;34m\"iseoulu.csv\"\u001b[0m\u001b[0;34m)\u001b[0m\u001b[0;34m\u001b[0m\u001b[0;34m\u001b[0m\u001b[0m\n\u001b[0m\u001b[1;32m      4\u001b[0m \u001b[0;32mfor\u001b[0m \u001b[0mi\u001b[0m \u001b[0;32min\u001b[0m \u001b[0mtotal\u001b[0m\u001b[0;34m[\u001b[0m\u001b[0;34m:\u001b[0m\u001b[0;36m5\u001b[0m\u001b[0;34m]\u001b[0m\u001b[0;34m:\u001b[0m\u001b[0;34m\u001b[0m\u001b[0;34m\u001b[0m\u001b[0m\n\u001b[1;32m      5\u001b[0m     \u001b[0mprint\u001b[0m\u001b[0;34m(\u001b[0m\u001b[0mi\u001b[0m\u001b[0;34m)\u001b[0m\u001b[0;34m\u001b[0m\u001b[0;34m\u001b[0m\u001b[0m\n",
      "\u001b[0;32m~/opt/anaconda3/lib/python3.9/usecsv.py\u001b[0m in \u001b[0;36mopencsv\u001b[0;34m(filename)\u001b[0m\n\u001b[1;32m      7\u001b[0m \u001b[0;34m\u001b[0m\u001b[0m\n\u001b[1;32m      8\u001b[0m \u001b[0;32mdef\u001b[0m \u001b[0mopencsv\u001b[0m\u001b[0;34m(\u001b[0m\u001b[0mfilename\u001b[0m\u001b[0;34m)\u001b[0m\u001b[0;34m:\u001b[0m\u001b[0;34m\u001b[0m\u001b[0;34m\u001b[0m\u001b[0m\n\u001b[0;32m----> 9\u001b[0;31m     \u001b[0mf\u001b[0m\u001b[0;34m=\u001b[0m\u001b[0mopen\u001b[0m\u001b[0;34m(\u001b[0m\u001b[0mfilename\u001b[0m\u001b[0;34m,\u001b[0m \u001b[0;34m'r'\u001b[0m\u001b[0;34m)\u001b[0m\u001b[0;34m\u001b[0m\u001b[0;34m\u001b[0m\u001b[0m\n\u001b[0m\u001b[1;32m     10\u001b[0m     \u001b[0mreader\u001b[0m\u001b[0;34m=\u001b[0m\u001b[0mcsv\u001b[0m\u001b[0;34m.\u001b[0m\u001b[0mreader\u001b[0m\u001b[0;34m(\u001b[0m\u001b[0mf\u001b[0m\u001b[0;34m)\u001b[0m\u001b[0;34m\u001b[0m\u001b[0;34m\u001b[0m\u001b[0m\n\u001b[1;32m     11\u001b[0m     \u001b[0moutput\u001b[0m\u001b[0;34m=\u001b[0m\u001b[0;34m[\u001b[0m\u001b[0;34m]\u001b[0m\u001b[0;34m\u001b[0m\u001b[0;34m\u001b[0m\u001b[0m\n",
      "\u001b[0;31mFileNotFoundError\u001b[0m: [Errno 2] No such file or directory: 'iseoulu.csv'"
     ]
    }
   ],
   "source": [
    "import usecsv\n",
    "\n",
    "total = usecsv.opencsv(\"iseoulu.csv\")\n",
    "for i in total[:5]:\n",
    "    print(i)"
   ]
  }
 ],
 "metadata": {
  "kernelspec": {
   "display_name": "Python 3 (ipykernel)",
   "language": "python",
   "name": "python3"
  },
  "language_info": {
   "codemirror_mode": {
    "name": "ipython",
    "version": 3
   },
   "file_extension": ".py",
   "mimetype": "text/x-python",
   "name": "python",
   "nbconvert_exporter": "python",
   "pygments_lexer": "ipython3",
   "version": "3.9.13"
  }
 },
 "nbformat": 4,
 "nbformat_minor": 5
}
