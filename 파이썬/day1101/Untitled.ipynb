{
 "cells": [
  {
   "cell_type": "code",
   "execution_count": null,
   "id": "a186b24b",
   "metadata": {},
   "outputs": [],
   "source": [
    "class Product(object):\n",
    "    pass\n",
    "class Inventory(object):\n",
    "    def __init__(self):\n",
    "        self.__items =[]\n",
    "    def add_new_item(self.product):\n",
    "        if type(product) == Product:\n",
    "            self.__items.append(product)\n",
    "            print(\"new item added\")\n",
    "        else: \n",
    "            raise VlaueError(\"Invalid Item\")\n",
    "        def get_number_of_items(self):\n",
    "            return len(self.__items)"
   ]
  }
 ],
 "metadata": {
  "kernelspec": {
   "display_name": "Python 3 (ipykernel)",
   "language": "python",
   "name": "python3"
  },
  "language_info": {
   "codemirror_mode": {
    "name": "ipython",
    "version": 3
   },
   "file_extension": ".py",
   "mimetype": "text/x-python",
   "name": "python",
   "nbconvert_exporter": "python",
   "pygments_lexer": "ipython3",
   "version": "3.9.13"
  }
 },
 "nbformat": 4,
 "nbformat_minor": 5
}
