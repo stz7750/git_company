{
 "cells": [
  {
   "cell_type": "markdown",
   "id": "14a38916",
   "metadata": {},
   "source": [
    "# 텍스트 파일 가공하기\n",
    "- 파일 입출력 연습하기\n",
    "- 정규 표현식 문자열 다루기\n",
    "- 드라마 대본 텍스트 파일 가공하기"
   ]
  },
  {
   "cell_type": "code",
   "execution_count": 3,
   "id": "9b021526",
   "metadata": {},
   "outputs": [
    {
     "name": "stdout",
     "output_type": "stream",
     "text": [
      "/Users/gimtaehun/test\n"
     ]
    }
   ],
   "source": [
    "import os\n",
    "os.chdir(r\"/Users/gimtaehun/test\")\n",
    "print(os.getcwd())"
   ]
  },
  {
   "cell_type": "code",
   "execution_count": 4,
   "id": "f1a5deb2",
   "metadata": {},
   "outputs": [
    {
     "data": {
      "text/plain": [
       "[]"
      ]
     },
     "execution_count": 4,
     "metadata": {},
     "output_type": "execute_result"
    }
   ],
   "source": [
    "os.listdir()"
   ]
  },
  {
   "cell_type": "markdown",
   "id": "a09de8dd",
   "metadata": {},
   "source": [
    "open() 함수로 원하는 파일을 열 수 있음.\n",
    "close() 함수로 파일을 닫을 수 있음.\n",
    "\n",
    "파일 객체 = open('이름', '파일 열기 모드')\n",
    "\n",
    "파일 쓰기 모드 w\n",
    "- 파일에 새로운 내용을 작성할 때 사용 ,write() 함수로 데이터 작성 가능.\n",
    "파일 읽기 모드 r\n",
    "- 파일을 읽을 때 사용 , read()함수로 파일 내용을 읽을 수 있다.\n",
    "- seek()함수를 통해 파일의 커서 이동 가능.\n",
    "- 읽기모드는 무조건 읽을 파일이 존재 해야한다.\n",
    "파일 데이터 추가 a\n",
    "- appen이다. w는 작성 후 새로 작성하면 기존 데이터 삭제 되지만 a를 쓰면 추가된다."
   ]
  },
  {
   "cell_type": "code",
   "execution_count": 9,
   "id": "1e74b72f",
   "metadata": {},
   "outputs": [],
   "source": [
    "f = open(\"a.txt\" ,'w')\n",
    "f.write(\"hello world.\")\n",
    "f.close()"
   ]
  },
  {
   "cell_type": "code",
   "execution_count": 10,
   "id": "83ac2be6",
   "metadata": {},
   "outputs": [
    {
     "name": "stdout",
     "output_type": "stream",
     "text": [
      "hello world.\n",
      " world.\n"
     ]
    }
   ],
   "source": [
    "f = open(\"a.txt\" , 'r')\n",
    "print(f.read())\n",
    "f.seek(5)\n",
    "print(f.read())\n",
    "f.close()"
   ]
  },
  {
   "cell_type": "markdown",
   "id": "dc7e057f",
   "metadata": {},
   "source": [
    "with문으로 객체를 만들지 않고 파일 입출력하기\n",
    "\n",
    " - open과 close를 계속 반복하는 것은 비효율적\n",
    " - with를 통해 close를 하지 않아도 close 자동 적용.\n",
    " \n",
    " with open(파일이름, 파일 열기 모드) as f:\n",
    "     f에 수행할 명령"
   ]
  },
  {
   "cell_type": "code",
   "execution_count": 11,
   "id": "f6a540ff",
   "metadata": {},
   "outputs": [],
   "source": [
    "with open('test.txt', 'w') as f:\n",
    "    f.write(\"나는 학교에 갔습니다.\")"
   ]
  },
  {
   "cell_type": "code",
   "execution_count": null,
   "id": "9424077f",
   "metadata": {},
   "outputs": [],
   "source": [
    "with open('test.txt', 'r') as f:\n",
    "    print(f.read())"
   ]
  },
  {
   "cell_type": "code",
   "execution_count": 12,
   "id": "faaa83bc",
   "metadata": {},
   "outputs": [
    {
     "name": "stdout",
     "output_type": "stream",
     "text": [
      "농업생산성의 제고와 농지의 합리적인 이용을 위하거나 불가피한 사정으로 발생하는 농지의 임대차와 위탁경영은 법률이 정하는 바에 의하여 인정된다. 대법원장의 임기는 6년으로 하며, 중임할 수 없다. 모든 국민은 법률이 정하는 바에 의하여 납세의 의무를 진다. 모든 국민은 법 앞에 평등하다. 누구든지 성별·종교 또는 사회적 신분에 의하여 정치적·경제적·사회적·문화적 생활의 모든 영역에 있어서 차별을 받지 아니한다. 위원은 정당에 가입하거나 정치에 관여할 수 없다. 국가는 국민 모두의 생산 및 생활의 기반이 되는 국토의 효율적이고 균형있는 이용·개발과 보전을 위하여 법률이 정하는 바에 의하여 그에 관한 필요한 제한과 의무를 과할 수 있다.\n",
      "\n"
     ]
    }
   ],
   "source": [
    "with open('korean.txt' ,'r') as f:\n",
    "    print(f.readline())"
   ]
  },
  {
   "cell_type": "code",
   "execution_count": null,
   "id": "2ec5e9cc",
   "metadata": {},
   "outputs": [],
   "source": [
    "with open('korean.txt' ,'r', encoding = 'utf-8') as f:\n",
    "    print(f.readline())\n",
    "#맥북으로 utf-8로 설정해서 문제는 없지만 문제가 있다면 encoding을 해준다.\n"
   ]
  },
  {
   "cell_type": "code",
   "execution_count": null,
   "id": "7e10ffd8",
   "metadata": {},
   "outputs": [],
   "source": [
    "#한글파일 오류 해결하기 codecs 모듈로 해결가능."
   ]
  },
  {
   "cell_type": "code",
   "execution_count": null,
   "id": "50ae2c87",
   "metadata": {},
   "outputs": [],
   "source": [
    "#어떤 긴 문자열에서 원하는 형태의 문자열 찾기\n",
    "# 문자열의 포맷이 맞는지 확인하기. (전화번호, 이메일)\n",
    "\n",
    "#정규표현식 Regula Expression (re)\n",
    "#사람의 이름과 년도를 선택하는 표현한 표현식 re.findall(r'/([A-Za-z가-힣]+, \\d+\\),example)\n",
    "#특정한 문자의 규칙을 찾고 가공하는 방법\n",
    "#import re로 사용가능\n",
    "\n"
   ]
  },
  {
   "cell_type": "markdown",
   "id": "686dbf55",
   "metadata": {},
   "source": [
    "match method\n",
    "- 문자열 도입에서 패턴 찾기\n",
    "- mathc메소드를 통하여 패턴이 맞는 문자열 검색\n",
    "- 텍스트 중간에 있는 패턴은 찾지 못 함\n"
   ]
  },
  {
   "cell_type": "code",
   "execution_count": 13,
   "id": "111d1692",
   "metadata": {},
   "outputs": [
    {
     "data": {
      "text/plain": [
       "'life'"
      ]
     },
     "execution_count": 13,
     "metadata": {},
     "output_type": "execute_result"
    }
   ],
   "source": [
    "import re\n",
    "\n",
    "pattern = r'life'\n",
    "script = 'life'\n",
    "re.match(pattern, script)\n",
    "re.match(pattern, script).group()"
   ]
  }
 ],
 "metadata": {
  "kernelspec": {
   "display_name": "Python 3 (ipykernel)",
   "language": "python",
   "name": "python3"
  },
  "language_info": {
   "codemirror_mode": {
    "name": "ipython",
    "version": 3
   },
   "file_extension": ".py",
   "mimetype": "text/x-python",
   "name": "python",
   "nbconvert_exporter": "python",
   "pygments_lexer": "ipython3",
   "version": "3.9.13"
  }
 },
 "nbformat": 4,
 "nbformat_minor": 5
}
