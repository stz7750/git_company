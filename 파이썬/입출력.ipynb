{
 "cells": [
  {
   "cell_type": "markdown",
   "id": "f9fda66d",
   "metadata": {},
   "source": [
    "####입력 IN input()"
   ]
  },
  {
   "cell_type": "code",
   "execution_count": null,
   "id": "3dd5672b",
   "metadata": {},
   "outputs": [],
   "source": [
    "print(\"Enter your name :\")"
   ]
  },
  {
   "cell_type": "code",
   "execution_count": null,
   "id": "8f2f452a",
   "metadata": {},
   "outputs": [],
   "source": [
    "somebody = input()"
   ]
  },
  {
   "cell_type": "code",
   "execution_count": null,
   "id": "65a01b4b",
   "metadata": {},
   "outputs": [],
   "source": [
    "print(\"Hi\",somebody,\"how are you today?\")"
   ]
  },
  {
   "cell_type": "code",
   "execution_count": 1,
   "id": "1e9ed388",
   "metadata": {},
   "outputs": [
    {
     "name": "stdout",
     "output_type": "stream",
     "text": [
      "good\n",
      "good\n"
     ]
    }
   ],
   "source": [
    "a = input()\n",
    "print(a)"
   ]
  },
  {
   "cell_type": "code",
   "execution_count": null,
   "id": "945b6a41",
   "metadata": {},
   "outputs": [],
   "source": [
    "a = input(\"문자열을 입력하세요 :\")\n",
    "print(b, type(b))"
   ]
  },
  {
   "cell_type": "code",
   "execution_count": 3,
   "id": "59737a24",
   "metadata": {},
   "outputs": [
    {
     "name": "stdout",
     "output_type": "stream",
     "text": [
      "숫자를 입력하세요 : 100\n",
      "100 <class 'str'>\n"
     ]
    }
   ],
   "source": [
    "b = input(\"숫자를 입력하세요 : \")\n",
    "print(b, type(b))"
   ]
  },
  {
   "cell_type": "code",
   "execution_count": 5,
   "id": "68eaec47",
   "metadata": {},
   "outputs": [
    {
     "name": "stdout",
     "output_type": "stream",
     "text": [
      "숫자를 입력하세요 : 100\n"
     ]
    },
    {
     "ename": "TypeError",
     "evalue": "can only concatenate str (not \"int\") to str",
     "output_type": "error",
     "traceback": [
      "\u001b[0;31m---------------------------------------------------------------------------\u001b[0m",
      "\u001b[0;31mTypeError\u001b[0m                                 Traceback (most recent call last)",
      "\u001b[0;32m/var/folders/gj/rk99c81n5jn0qjwq7ylttb3m0000gn/T/ipykernel_54569/1536589500.py\u001b[0m in \u001b[0;36m<module>\u001b[0;34m\u001b[0m\n\u001b[1;32m      1\u001b[0m \u001b[0;31m# can only concatenate str (not \"int\") to str error\u001b[0m\u001b[0;34m\u001b[0m\u001b[0;34m\u001b[0m\u001b[0m\n\u001b[1;32m      2\u001b[0m \u001b[0mb\u001b[0m \u001b[0;34m=\u001b[0m \u001b[0minput\u001b[0m\u001b[0;34m(\u001b[0m\u001b[0;34m\"숫자를 입력하세요 : \"\u001b[0m\u001b[0;34m)\u001b[0m\u001b[0;34m\u001b[0m\u001b[0;34m\u001b[0m\u001b[0m\n\u001b[0;32m----> 3\u001b[0;31m \u001b[0mprint\u001b[0m\u001b[0;34m(\u001b[0m\u001b[0mb\u001b[0m \u001b[0;34m+\u001b[0m \u001b[0;36m100\u001b[0m\u001b[0;34m)\u001b[0m\u001b[0;34m\u001b[0m\u001b[0;34m\u001b[0m\u001b[0m\n\u001b[0m",
      "\u001b[0;31mTypeError\u001b[0m: can only concatenate str (not \"int\") to str"
     ]
    }
   ],
   "source": [
    "# can only concatenate str (not \"int\") to str error\n",
    "b = input(\"숫자를 입력하세요 : \")\n",
    "print(b + 100)"
   ]
  },
  {
   "cell_type": "code",
   "execution_count": 6,
   "id": "32e99d18",
   "metadata": {},
   "outputs": [
    {
     "name": "stdout",
     "output_type": "stream",
     "text": [
      "숫자를 입력하세요 : 100\n",
      "100100\n"
     ]
    }
   ],
   "source": [
    "# b가 가지고 있는 str 타입의 값을 두번 반복한다.\n",
    "b = input(\"숫자를 입력하세요 : \")\n",
    "print(b * 2)"
   ]
  },
  {
   "cell_type": "code",
   "execution_count": null,
   "id": "5b40b6f2",
   "metadata": {},
   "outputs": [],
   "source": []
  },
  {
   "cell_type": "markdown",
   "id": "93dbe241",
   "metadata": {},
   "source": [
    "#### 출력 print()\n",
    "\n",
    "     - print(1,2,3)\n",
    "     - print(1,2,3 ,sep = \".\") : 출력 데이터 간의 구분자 (기본값 : 공백)\n",
    "     - print(1,2,3 ,end = \" \") : 출력 후 나올 문자(기본값 : 줄바꿈 )\n",
    "     - print(\"%d + %d = %d\" %(1,2,3))\n",
    "     - print(\"{} + {} = {} .format(1,2,3))"
   ]
  },
  {
   "cell_type": "code",
   "execution_count": 7,
   "id": "168b57be",
   "metadata": {},
   "outputs": [
    {
     "name": "stdout",
     "output_type": "stream",
     "text": [
      "1 2 3\n"
     ]
    }
   ],
   "source": [
    "print(1,2,3)"
   ]
  },
  {
   "cell_type": "code",
   "execution_count": 8,
   "id": "d431c97e",
   "metadata": {},
   "outputs": [
    {
     "name": "stdout",
     "output_type": "stream",
     "text": [
      "1.2.3\n"
     ]
    }
   ],
   "source": [
    "print(1,2,3, sep = \".\")"
   ]
  },
  {
   "cell_type": "code",
   "execution_count": 12,
   "id": "a3732938",
   "metadata": {},
   "outputs": [
    {
     "name": "stdout",
     "output_type": "stream",
     "text": [
      "1 2 3 45 6\n"
     ]
    }
   ],
   "source": [
    "print(1,2 ,end= \" \")\n",
    "print(3,4 ,end = \" \")\n",
    "print(5,6)"
   ]
  },
  {
   "cell_type": "code",
   "execution_count": 13,
   "id": "d52bcc06",
   "metadata": {},
   "outputs": [
    {
     "name": "stdout",
     "output_type": "stream",
     "text": [
      "1 + 2 = 3\n"
     ]
    }
   ],
   "source": [
    "print(\"%d + %d = %d\" %(1,2,3))"
   ]
  },
  {
   "cell_type": "code",
   "execution_count": 14,
   "id": "da1cd96f",
   "metadata": {},
   "outputs": [
    {
     "name": "stdout",
     "output_type": "stream",
     "text": [
      "123\n",
      "  123\n",
      "00123\n"
     ]
    }
   ],
   "source": [
    "print(\"%d\" %123)\n",
    "print(\"%5d\" %123)\n",
    "print(\"%05d\" %123)"
   ]
  },
  {
   "cell_type": "code",
   "execution_count": 15,
   "id": "c70fa638",
   "metadata": {},
   "outputs": [
    {
     "name": "stdout",
     "output_type": "stream",
     "text": [
      "python\n",
      "    python\n"
     ]
    }
   ],
   "source": [
    "print(\"%s\" % \"python\")\n",
    "print(\"%10s\" % \"python\")"
   ]
  },
  {
   "cell_type": "code",
   "execution_count": 16,
   "id": "791c4d28",
   "metadata": {},
   "outputs": [
    {
     "name": "stdout",
     "output_type": "stream",
     "text": [
      "7 / 2 = 3\n"
     ]
    }
   ],
   "source": [
    "print(\"%d / %d = %d\" %(7,2, 7/2))"
   ]
  },
  {
   "cell_type": "code",
   "execution_count": 17,
   "id": "75e90b11",
   "metadata": {},
   "outputs": [
    {
     "name": "stdout",
     "output_type": "stream",
     "text": [
      "1 + 2 = 3\n"
     ]
    }
   ],
   "source": [
    "print(\"{} + {} = {}\" .format(1,2,3))"
   ]
  },
  {
   "cell_type": "code",
   "execution_count": 19,
   "id": "41f3b299",
   "metadata": {},
   "outputs": [
    {
     "name": "stdout",
     "output_type": "stream",
     "text": [
      "200 + 100 =  300\n"
     ]
    }
   ],
   "source": [
    "print(\"{1:} + {0:} = {2: ,}\".format(100,200,300))"
   ]
  },
  {
   "cell_type": "code",
   "execution_count": 21,
   "id": "26e14cba",
   "metadata": {},
   "outputs": [
    {
     "name": "stdout",
     "output_type": "stream",
     "text": [
      "200 +   100 = 300,000\n"
     ]
    }
   ],
   "source": [
    "print(\"{1:d} + {0:5d} = {2:,d}\".format(100,200,300000))"
   ]
  },
  {
   "cell_type": "code",
   "execution_count": 22,
   "id": "43f64aa0",
   "metadata": {},
   "outputs": [
    {
     "name": "stdout",
     "output_type": "stream",
     "text": [
      "\n",
      "줄 바꿈\n",
      "연습 \n",
      "\t탭 키\t연습\n",
      "글자가 \"강조\"되는 효과1\n"
     ]
    }
   ],
   "source": [
    "print(\"\\n줄 바꿈\\n연습 \")\n",
    "print(\"\\t탭 키\\t연습\")\n",
    "print(\"글자가 \\\"강조\\\"되는 효과1\")"
   ]
  }
 ],
 "metadata": {
  "kernelspec": {
   "display_name": "Python 3 (ipykernel)",
   "language": "python",
   "name": "python3"
  },
  "language_info": {
   "codemirror_mode": {
    "name": "ipython",
    "version": 3
   },
   "file_extension": ".py",
   "mimetype": "text/x-python",
   "name": "python",
   "nbconvert_exporter": "python",
   "pygments_lexer": "ipython3",
   "version": "3.9.13"
  }
 },
 "nbformat": 4,
 "nbformat_minor": 5
}
